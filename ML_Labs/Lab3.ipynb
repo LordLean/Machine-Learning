{
  "nbformat": 4,
  "nbformat_minor": 0,
  "metadata": {
    "kernelspec": {
      "display_name": "Python 3",
      "language": "python",
      "name": "python3"
    },
    "language_info": {
      "codemirror_mode": {
        "name": "ipython",
        "version": 3
      },
      "file_extension": ".py",
      "mimetype": "text/x-python",
      "name": "python",
      "nbconvert_exporter": "python",
      "pygments_lexer": "ipython3",
      "version": "3.7.4"
    },
    "colab": {
      "name": "Lab3.ipynb",
      "provenance": [],
      "collapsed_sections": [],
      "include_colab_link": true
    }
  },
  "cells": [
    {
      "cell_type": "markdown",
      "metadata": {
        "id": "view-in-github",
        "colab_type": "text"
      },
      "source": [
        "<a href=\"https://colab.research.google.com/github/LordLean/Machine-Learning/blob/master/ML_Labs/Lab3.ipynb\" target=\"_parent\"><img src=\"https://colab.research.google.com/assets/colab-badge.svg\" alt=\"Open In Colab\"/></a>"
      ]
    },
    {
      "cell_type": "markdown",
      "metadata": {
        "id": "e24Lv9MRI-qs",
        "colab_type": "text"
      },
      "source": [
        "# Seminar Week 3: Pre-processing"
      ]
    },
    {
      "cell_type": "markdown",
      "metadata": {
        "id": "Dr3ll95WI-qx",
        "colab_type": "text"
      },
      "source": [
        "There are two streams for this lab session: (i) some Python tutorial covering random number generation, some basic plotting, and matrix operations; (ii) some questions on pre-processing. \n",
        "\n",
        "You should choose yourself which part you want to focus on during the 1 hour class. Part 2 does follow on from the part 1, but some of you might prefer to not have all the details right now, and focus just on using toolboxes to answer the questions in part 2. If you want to write your own code for part 2, then part 1 might be useful.\n",
        "\n",
        "However you approach this lab, you should be generally getting familiar with Python and the toolboxes that are available for doing machine learning.\n",
        "\n",
        "Start by importing the libraries we'll use:"
      ]
    },
    {
      "cell_type": "code",
      "metadata": {
        "id": "p856PUfbI-q0",
        "colab_type": "code",
        "colab": {}
      },
      "source": [
        "import numpy as np\n",
        "import scipy.stats as stats\n",
        "import matplotlib.pyplot as plt\n",
        "import scipy.linalg as linalg"
      ],
      "execution_count": 0,
      "outputs": []
    },
    {
      "cell_type": "markdown",
      "metadata": {
        "id": "7CLBX58nI-q7",
        "colab_type": "text"
      },
      "source": [
        "# Part 1 - Tutorial: Random number generation, basic plotting, matrix operations"
      ]
    },
    {
      "cell_type": "markdown",
      "metadata": {
        "id": "5hM5DrszI-q9",
        "colab_type": "text"
      },
      "source": [
        "## Random number generation"
      ]
    },
    {
      "cell_type": "markdown",
      "metadata": {
        "id": "Mylb7w0VI-q_",
        "colab_type": "text"
      },
      "source": [
        "Here is how to generate data that are normally distributed, and plot with a basic histogram. Have a play around with the parameters."
      ]
    },
    {
      "cell_type": "code",
      "metadata": {
        "id": "WWlbVolOI-rB",
        "colab_type": "code",
        "outputId": "5a9216f2-02df-4643-f83d-cce043058b04",
        "colab": {
          "base_uri": "https://localhost:8080/",
          "height": 265
        }
      },
      "source": [
        "# Generate 1D data from normal distribution\n",
        "nbpts = 50 # Number of points to generate\n",
        "mu = 1 # the mean\n",
        "sigma = 2 # the standard deviation\n",
        "\n",
        "data = np.random.normal(mu,sigma,(nbpts,1)) # makes a column vector\n",
        "\n",
        "# Create histogram. By default, this will show how many points fall in each bin. \n",
        "bins = 10 # This specifies the number of bins, Python decides the interval. This can be OK but means you do not specify exactly where the bins are. \n",
        "plt.hist(data, bins) \n",
        "plt.show()"
      ],
      "execution_count": 0,
      "outputs": [
        {
          "output_type": "display_data",
          "data": {
            "image/png": "[encoded data removed]",
            "text/plain": [
              "<Figure size 432x288 with 1 Axes>"
            ]
          },
          "metadata": {
            "tags": []
          }
        }
      ]
    },
    {
      "cell_type": "code",
      "metadata": {
        "id": "dUQrpc_0I-rJ",
        "colab_type": "code",
        "outputId": "b5ffa6e0-4f69-479d-ef49-51444219198a",
        "colab": {
          "base_uri": "https://localhost:8080/",
          "height": 265
        }
      },
      "source": [
        "# A different specification\n",
        "edges = np.linspace(-5,8,14) # This specifies the number of bins and also where the first bin starts from\n",
        "plt.hist(data, edges)\n",
        "plt.show()"
      ],
      "execution_count": 0,
      "outputs": [
        {
          "output_type": "display_data",
          "data": {
            "image/png": "[encoded data removed]",
            "text/plain": [
              "<Figure size 432x288 with 1 Axes>"
            ]
          },
          "metadata": {
            "tags": []
          }
        }
      ]
    },
    {
      "cell_type": "code",
      "metadata": {
        "id": "ttEbW_KrI-rQ",
        "colab_type": "code",
        "outputId": "64b34118-2c27-42fa-fa6f-c79610ef3805",
        "colab": {
          "base_uri": "https://localhost:8080/",
          "height": 265
        }
      },
      "source": [
        "# Another specification\n",
        "binsize = 1\n",
        "edges = np.arange(-5,8,binsize) # This specifies a sequence defining the left edge of each bin (and, indirectly, the number of bins) \n",
        "plt.hist(data,edges)\n",
        "plt.show()"
      ],
      "execution_count": 0,
      "outputs": [
        {
          "output_type": "display_data",
          "data": {
            "image/png": "[encoded data removed]",
            "text/plain": [
              "<Figure size 432x288 with 1 Axes>"
            ]
          },
          "metadata": {
            "tags": []
          }
        }
      ]
    },
    {
      "cell_type": "markdown",
      "metadata": {
        "id": "ED5ePXCdI-rW",
        "colab_type": "text"
      },
      "source": [
        "\n",
        "Next let's do a normalised histogram.\n",
        "\n",
        "We are using histograms to estimate probability densities. We need to remember that a probability density function has an area under the curve of 1 (when integrating over all values) so in order to be able to compare histogram and probability density function, we need to normalise our histograms.\n"
      ]
    },
    {
      "cell_type": "code",
      "metadata": {
        "id": "tiM7D5_QI-rZ",
        "colab_type": "code",
        "outputId": "56a9d1bb-51db-44eb-b91a-28f9008c162b",
        "colab": {
          "base_uri": "https://localhost:8080/",
          "height": 1000
        }
      },
      "source": [
        "for i in range(1,5):\n",
        "  binsize = i\n",
        "  edges = np.arange(-5,8,binsize) # varying the step size in the sequence means changing the number of bins. Consider what happens when changing the value of binsize\n",
        "  plt.hist(data, edges, density=True)\n",
        "  plt.show()"
      ],
      "execution_count": 0,
      "outputs": [
        {
          "output_type": "display_data",
          "data": {
            "image/png": "[encoded data removed]",
            "text/plain": [
              "<Figure size 432x288 with 1 Axes>"
            ]
          },
          "metadata": {
            "tags": []
          }
        },
        {
          "output_type": "display_data",
          "data": {
            "image/png": "[encoded data removed]",
            "text/plain": [
              "<Figure size 432x288 with 1 Axes>"
            ]
          },
          "metadata": {
            "tags": []
          }
        },
        {
          "output_type": "display_data",
          "data": {
            "image/png": "[encoded data removed]",
            "text/plain": [
              "<Figure size 432x288 with 1 Axes>"
            ]
          },
          "metadata": {
            "tags": []
          }
        },
        {
          "output_type": "display_data",
          "data": {
            "image/png": "[encoded data removed]",
            "text/plain": [
              "<Figure size 432x288 with 1 Axes>"
            ]
          },
          "metadata": {
            "tags": []
          }
        }
      ]
    },
    {
      "cell_type": "code",
      "metadata": {
        "id": "Fg6vL4m6I-rg",
        "colab_type": "code",
        "outputId": "4f4982b7-c8dd-44e0-ea91-73df73fb5f5a",
        "colab": {
          "base_uri": "https://localhost:8080/",
          "height": 282
        }
      },
      "source": [
        "for i in range(1,2):\n",
        "  # Now we can superimpose the pdf (probability density function) of the normal distribution we used to generate the data. We will plot it in the same range as covered by our edges\n",
        "  print(i)\n",
        "  binsize = i\n",
        "  edges = np.arange(-5,8,binsize) # varying the step size in the sequence means changing the number of bins. Consider what happens when changing the value of binsize\n",
        "  plt.hist(data, edges, density=True)\n",
        "  \n",
        "  x = np.arange(-5,8,0.05) # the x values over which I want the PDF\n",
        "  y = stats.norm.pdf(x,mu,sigma)\n",
        "  plt.plot(x,y,'r--') # plot with red line\n",
        "  plt.show()"
      ],
      "execution_count": 0,
      "outputs": [
        {
          "output_type": "stream",
          "text": [
            "1\n"
          ],
          "name": "stdout"
        },
        {
          "output_type": "display_data",
          "data": {
            "image/png": "[encoded data removed]",
            "text/plain": [
              "<Figure size 432x288 with 1 Axes>"
            ]
          },
          "metadata": {
            "tags": []
          }
        }
      ]
    },
    {
      "cell_type": "markdown",
      "metadata": {
        "id": "oTsBY5gbI-rl",
        "colab_type": "text"
      },
      "source": [
        "The first thing to be clear about is that if you draw data from a distribution, the smaller the number of samples, the less likely you are to be able to accurately estimate the distribution.  A simple example is as follows.  Say I have a biased coin (e.g., a coin that returns heads a bit more often than tails).  I know it’s biased but you don’t.  If I only let you throw it 5 times, how likely are you to be able to infer that it is biased?  What if I let you throw it 100 times?  A million times?  The more you can sample, the more your estimated probability density converges to the true probability density."
      ]
    },
    {
      "cell_type": "markdown",
      "metadata": {
        "id": "U28KfATCI-rn",
        "colab_type": "text"
      },
      "source": [
        "### Optional homework"
      ]
    },
    {
      "cell_type": "markdown",
      "metadata": {
        "id": "gVcYAI8-I-ro",
        "colab_type": "text"
      },
      "source": [
        "Try generating and plotting some data from another 1-d probability distribution, such as a uniform distribution and/or a log-normal distribution"
      ]
    },
    {
      "cell_type": "markdown",
      "metadata": {
        "id": "8D1PgoudWEBG",
        "colab_type": "text"
      },
      "source": [
        "### Binomial Distribution:"
      ]
    },
    {
      "cell_type": "code",
      "metadata": {
        "id": "DB6cTKirMLBi",
        "colab_type": "code",
        "outputId": "7f189935-4927-4972-eb4f-bd0200a7a50e",
        "colab": {
          "base_uri": "https://localhost:8080/",
          "height": 1000
        }
      },
      "source": [
        "for i in np.geomspace(10,10000000,num=7, dtype=int):\n",
        "  \n",
        "  data_bn = np.random.binomial(i,0.75,10000000)\n",
        "  plt.hist(data_bn,bins=50,density=True)\n",
        "\n",
        "\n",
        "  print(data_bn.mean())\n",
        "  print(data_bn.std())\n",
        "  print(data_bn.max())\n",
        "  print(data_bn.min())\n",
        "\n",
        "  # - Fitting Guassian \n",
        "  x = np.arange(data_bn.min(),data_bn.max(),0.001)\n",
        "  y = stats.norm.pdf(x,data_bn.mean(),data_bn.std())\n",
        "  plt.plot(x,y,\"r--\")\n",
        "  plt.legend([\"Gaussian_Approx\",\"Binomial\"])\n",
        "  plt.show()"
      ],
      "execution_count": 0,
      "outputs": [
        {
          "output_type": "stream",
          "text": [
            "7.5000735\n",
            "1.369388693760012\n",
            "10\n",
            "0\n"
          ],
          "name": "stdout"
        },
        {
          "output_type": "display_data",
          "data": {
            "image/png": "[encoded data removed]",
            "text/plain": [
              "<Figure size 432x288 with 1 Axes>"
            ]
          },
          "metadata": {
            "tags": []
          }
        },
        {
          "output_type": "stream",
          "text": [
            "75.0018625\n",
            "4.330947267179982\n",
            "94\n",
            "51\n"
          ],
          "name": "stdout"
        },
        {
          "output_type": "display_data",
          "data": {
            "image/png": "[encoded data removed]",
            "text/plain": [
              "<Figure size 432x288 with 1 Axes>"
            ]
          },
          "metadata": {
            "tags": []
          }
        },
        {
          "output_type": "stream",
          "text": [
            "749.9925497\n",
            "13.695669205739092\n",
            "816\n",
            "680\n"
          ],
          "name": "stdout"
        },
        {
          "output_type": "display_data",
          "data": {
            "image/png": "[encoded data removed]",
            "text/plain": [
              "<Figure size 432x288 with 1 Axes>"
            ]
          },
          "metadata": {
            "tags": []
          }
        },
        {
          "output_type": "stream",
          "text": [
            "7499.9823342\n",
            "43.31161387341174\n",
            "7738\n",
            "7287\n"
          ],
          "name": "stdout"
        },
        {
          "output_type": "stream",
          "text": [
            "/usr/local/lib/python3.6/dist-packages/IPython/core/pylabtools.py:125: UserWarning: Creating legend with loc=\"best\" can be slow with large amounts of data.\n",
            "  fig.canvas.print_figure(bytes_io, **kw)\n"
          ],
          "name": "stderr"
        },
        {
          "output_type": "display_data",
          "data": {
            "image/png": "[encoded data removed]",
            "text/plain": [
              "<Figure size 432x288 with 1 Axes>"
            ]
          },
          "metadata": {
            "tags": []
          }
        },
        {
          "output_type": "stream",
          "text": [
            "75000.0125417\n",
            "136.90399182860145\n",
            "75716\n",
            "74304\n"
          ],
          "name": "stdout"
        },
        {
          "output_type": "stream",
          "text": [
            "/usr/local/lib/python3.6/dist-packages/IPython/core/pylabtools.py:125: UserWarning: Creating legend with loc=\"best\" can be slow with large amounts of data.\n",
            "  fig.canvas.print_figure(bytes_io, **kw)\n"
          ],
          "name": "stderr"
        },
        {
          "output_type": "display_data",
          "data": {
            "image/png": "[encoded data removed]",
            "text/plain": [
              "<Figure size 432x288 with 1 Axes>"
            ]
          },
          "metadata": {
            "tags": []
          }
        },
        {
          "output_type": "stream",
          "text": [
            "750000.0078198\n",
            "432.9907146164343\n",
            "752260\n",
            "747726\n"
          ],
          "name": "stdout"
        },
        {
          "output_type": "stream",
          "text": [
            "/usr/local/lib/python3.6/dist-packages/IPython/core/pylabtools.py:125: UserWarning: Creating legend with loc=\"best\" can be slow with large amounts of data.\n",
            "  fig.canvas.print_figure(bytes_io, **kw)\n"
          ],
          "name": "stderr"
        },
        {
          "output_type": "display_data",
          "data": {
            "image/png": "[encoded data removed]",
            "text/plain": [
              "<Figure size 432x288 with 1 Axes>"
            ]
          },
          "metadata": {
            "tags": []
          }
        },
        {
          "output_type": "stream",
          "text": [
            "7499999.7488291\n",
            "1369.0027882562104\n",
            "7507541\n",
            "7492863\n"
          ],
          "name": "stdout"
        },
        {
          "output_type": "stream",
          "text": [
            "/usr/local/lib/python3.6/dist-packages/IPython/core/pylabtools.py:125: UserWarning: Creating legend with loc=\"best\" can be slow with large amounts of data.\n",
            "  fig.canvas.print_figure(bytes_io, **kw)\n"
          ],
          "name": "stderr"
        },
        {
          "output_type": "display_data",
          "data": {
            "image/png": "[encoded data removed]",
            "text/plain": [
              "<Figure size 432x288 with 1 Axes>"
            ]
          },
          "metadata": {
            "tags": []
          }
        }
      ]
    },
    {
      "cell_type": "markdown",
      "metadata": {
        "id": "duGY7-nTif1d",
        "colab_type": "text"
      },
      "source": [
        "### Uniform Distribution:"
      ]
    },
    {
      "cell_type": "code",
      "metadata": {
        "id": "3J4l05Aah3CR",
        "colab_type": "code",
        "outputId": "84fc6666-cab9-4426-c249-09d29d750562",
        "colab": {
          "base_uri": "https://localhost:8080/",
          "height": 299
        }
      },
      "source": [
        "data_uni = np.random.uniform(0,1,1000)\n",
        "\n",
        "print(np.all(data_uni >= 0))\n",
        "print(np.all(data_uni < 1))\n",
        "\n",
        "count, bins, ignored = plt.hist(data_uni, 15, density=True)\n",
        "plt.plot(bins, np.ones_like(bins), linewidth=2, color='r')\n",
        "plt.legend([\"Prob. Density Function\",\"Uniform Dist.\"], loc=\"lower right\")\n",
        "plt.show()"
      ],
      "execution_count": 0,
      "outputs": [
        {
          "output_type": "stream",
          "text": [
            "True\n",
            "True\n"
          ],
          "name": "stdout"
        },
        {
          "output_type": "display_data",
          "data": {
            "image/png": "[encoded data removed]",
            "text/plain": [
              "<Figure size 432x288 with 1 Axes>"
            ]
          },
          "metadata": {
            "tags": []
          }
        }
      ]
    },
    {
      "cell_type": "markdown",
      "metadata": {
        "id": "_mzig4k-I-rq",
        "colab_type": "text"
      },
      "source": [
        "## Multivariate normal (Gaussian) distribution "
      ]
    },
    {
      "cell_type": "markdown",
      "metadata": {
        "id": "IO77rAvhI-rs",
        "colab_type": "text"
      },
      "source": [
        "Now let's see how to generate data from a multivariate normal (Gaussian) distribution"
      ]
    },
    {
      "cell_type": "code",
      "metadata": {
        "id": "yX-AOh7AI-ru",
        "colab_type": "code",
        "colab": {}
      },
      "source": [
        "nbpts=100 # number of data points to generate\n",
        "\n",
        "mu=[4,5] # mean of x and mean of y\n",
        "sigma=[1,2] # standard deviation of x and standard deviation of y\n",
        "corr=0.7 # correlation between x and y. This lies between -1 and 1.\n",
        "cov=corr*sigma[0]*sigma[1]  #covariance, which is correlation times the 2 std devs.\n",
        "\n",
        "C=[[sigma[0]**2,cov],[cov,sigma[1]**2]] #  covariance matrix\n",
        "\n",
        "data=np.random.multivariate_normal(mu,C,nbpts)"
      ],
      "execution_count": 0,
      "outputs": []
    },
    {
      "cell_type": "code",
      "metadata": {
        "id": "j6mVSF6Vkoaf",
        "colab_type": "code",
        "colab": {
          "base_uri": "https://localhost:8080/",
          "height": 1000
        },
        "outputId": "da657b23-7dde-425a-af7d-eaa8df2a1e32"
      },
      "source": [
        "plt.hist2d(data.flatten(), data.flatten(), bins=100)"
      ],
      "execution_count": 3,
      "outputs": [
        {
          "output_type": "execute_result",
          "data": {
            "text/plain": [
              "(array([[1., 0., 0., ..., 0., 0., 0.],\n",
              "        [0., 0., 0., ..., 0., 0., 0.],\n",
              "        [0., 0., 0., ..., 0., 0., 0.],\n",
              "        ...,\n",
              "        [0., 0., 0., ..., 0., 0., 0.],\n",
              "        [0., 0., 0., ..., 0., 0., 0.],\n",
              "        [0., 0., 0., ..., 0., 0., 1.]]),\n",
              " array([0.21815034, 0.31500638, 0.41186241, 0.50871845, 0.60557448,\n",
              "        0.70243052, 0.79928656, 0.89614259, 0.99299863, 1.08985466,\n",
              "        1.1867107 , 1.28356673, 1.38042277, 1.4772788 , 1.57413484,\n",
              "        1.67099087, 1.76784691, 1.86470294, 1.96155898, 2.05841501,\n",
              "        2.15527105, 2.25212709, 2.34898312, 2.44583916, 2.54269519,\n",
              "        2.63955123, 2.73640726, 2.8332633 , 2.93011933, 3.02697537,\n",
              "        3.1238314 , 3.22068744, 3.31754347, 3.41439951, 3.51125554,\n",
              "        3.60811158, 3.70496761, 3.80182365, 3.89867969, 3.99553572,\n",
              "        4.09239176, 4.18924779, 4.28610383, 4.38295986, 4.4798159 ,\n",
              "        4.57667193, 4.67352797, 4.770384  , 4.86724004, 4.96409607,\n",
              "        5.06095211, 5.15780814, 5.25466418, 5.35152021, 5.44837625,\n",
              "        5.54523229, 5.64208832, 5.73894436, 5.83580039, 5.93265643,\n",
              "        6.02951246, 6.1263685 , 6.22322453, 6.32008057, 6.4169366 ,\n",
              "        6.51379264, 6.61064867, 6.70750471, 6.80436074, 6.90121678,\n",
              "        6.99807282, 7.09492885, 7.19178489, 7.28864092, 7.38549696,\n",
              "        7.48235299, 7.57920903, 7.67606506, 7.7729211 , 7.86977713,\n",
              "        7.96663317, 8.0634892 , 8.16034524, 8.25720127, 8.35405731,\n",
              "        8.45091334, 8.54776938, 8.64462542, 8.74148145, 8.83833749,\n",
              "        8.93519352, 9.03204956, 9.12890559, 9.22576163, 9.32261766,\n",
              "        9.4194737 , 9.51632973, 9.61318577, 9.7100418 , 9.80689784,\n",
              "        9.90375387]),\n",
              " array([0.21815034, 0.31500638, 0.41186241, 0.50871845, 0.60557448,\n",
              "        0.70243052, 0.79928656, 0.89614259, 0.99299863, 1.08985466,\n",
              "        1.1867107 , 1.28356673, 1.38042277, 1.4772788 , 1.57413484,\n",
              "        1.67099087, 1.76784691, 1.86470294, 1.96155898, 2.05841501,\n",
              "        2.15527105, 2.25212709, 2.34898312, 2.44583916, 2.54269519,\n",
              "        2.63955123, 2.73640726, 2.8332633 , 2.93011933, 3.02697537,\n",
              "        3.1238314 , 3.22068744, 3.31754347, 3.41439951, 3.51125554,\n",
              "        3.60811158, 3.70496761, 3.80182365, 3.89867969, 3.99553572,\n",
              "        4.09239176, 4.18924779, 4.28610383, 4.38295986, 4.4798159 ,\n",
              "        4.57667193, 4.67352797, 4.770384  , 4.86724004, 4.96409607,\n",
              "        5.06095211, 5.15780814, 5.25466418, 5.35152021, 5.44837625,\n",
              "        5.54523229, 5.64208832, 5.73894436, 5.83580039, 5.93265643,\n",
              "        6.02951246, 6.1263685 , 6.22322453, 6.32008057, 6.4169366 ,\n",
              "        6.51379264, 6.61064867, 6.70750471, 6.80436074, 6.90121678,\n",
              "        6.99807282, 7.09492885, 7.19178489, 7.28864092, 7.38549696,\n",
              "        7.48235299, 7.57920903, 7.67606506, 7.7729211 , 7.86977713,\n",
              "        7.96663317, 8.0634892 , 8.16034524, 8.25720127, 8.35405731,\n",
              "        8.45091334, 8.54776938, 8.64462542, 8.74148145, 8.83833749,\n",
              "        8.93519352, 9.03204956, 9.12890559, 9.22576163, 9.32261766,\n",
              "        9.4194737 , 9.51632973, 9.61318577, 9.7100418 , 9.80689784,\n",
              "        9.90375387]),\n",
              " <matplotlib.collections.QuadMesh at 0x7f2420e51f98>)"
            ]
          },
          "metadata": {
            "tags": []
          },
          "execution_count": 3
        },
        {
          "output_type": "display_data",
          "data": {
            "image/png": "[encoded data removed]",
            "text/plain": [
              "<Figure size 432x288 with 1 Axes>"
            ]
          },
          "metadata": {
            "tags": []
          }
        }
      ]
    },
    {
      "cell_type": "markdown",
      "metadata": {
        "id": "2VK_U6xPI-r0",
        "colab_type": "text"
      },
      "source": [
        "Produce a scatter plot"
      ]
    },
    {
      "cell_type": "code",
      "metadata": {
        "id": "EtEH40sAI-r2",
        "colab_type": "code",
        "outputId": "d0cb10bf-b712-4fb5-88ed-42bb70f12e1a",
        "colab": {
          "base_uri": "https://localhost:8080/",
          "height": 265
        }
      },
      "source": [
        "# - Line of best Fit for scatter.\n",
        "plt.scatter(data[:,0],data[:,1])\n",
        "# - For points that exist\n",
        "plt.plot(np.unique(data[:,0]), np.poly1d(np.polyfit(data[:,0], data[:,1], 1))(np.unique(data[:,0])))\n",
        "# - For points that extend past the plotted data\n",
        "plt.plot(range(10), np.poly1d(np.polyfit(data[:,0], data[:,1], 1))(range(10)), \"r--\")\n",
        "plt.show()\n"
      ],
      "execution_count": 4,
      "outputs": [
        {
          "output_type": "display_data",
          "data": {
            "image/png": "[encoded data removed]",
            "text/plain": [
              "<Figure size 432x288 with 1 Axes>"
            ]
          },
          "metadata": {
            "tags": []
          }
        }
      ]
    },
    {
      "cell_type": "markdown",
      "metadata": {
        "id": "pCvV64DZE71u",
        "colab_type": "text"
      },
      "source": [
        "# **- Line of Best Fit for 2D data ^**\n",
        "`plt.plot(np.unique(x), np.poly1d(np.polyfit(x, y, 1))(np.unique(x)))\n",
        "`\n",
        "<br>np.unique(x) to handle repeated data etc.\n",
        "<br>Replace `np.unique(x)` with a 1D range to extend beyond original x axis.\n"
      ]
    },
    {
      "cell_type": "markdown",
      "metadata": {
        "id": "X7NpK7uZI-r7",
        "colab_type": "text"
      },
      "source": [
        "### Optional homework"
      ]
    },
    {
      "cell_type": "markdown",
      "metadata": {
        "id": "-kpC9MPKI-r9",
        "colab_type": "text"
      },
      "source": [
        "Play around with different ways of visualising 2-d Gaussian data such as that just plotted above."
      ]
    },
    {
      "cell_type": "markdown",
      "metadata": {
        "id": "uxw5GnEPI-r-",
        "colab_type": "text"
      },
      "source": [
        "## Matrix operations"
      ]
    },
    {
      "cell_type": "markdown",
      "metadata": {
        "id": "VHSkq6O1I-sA",
        "colab_type": "text"
      },
      "source": [
        "Matrices are written as lists of rows, and vectors simply as lists. For full functionality, they should be declared as numpy arrays. So for example\n",
        "\n",
        "$A=\\left( \\begin{array}{cc} 2 & 1 \\\\ 4 & 3 \\end{array} \\right)$\n",
        "\n",
        "$B=\\left( \\begin{array}{cc} 5 & 2 \\\\ 2 & 2 \\end{array} \\right)$\n",
        "\n",
        "$v=\\left( \\begin{array}{c} 2 \\\\ 1 \\end{array} \\right)$\n",
        "\n",
        "can be written as:"
      ]
    },
    {
      "cell_type": "code",
      "metadata": {
        "id": "WIVzzVy3I-sC",
        "colab_type": "code",
        "colab": {}
      },
      "source": [
        "A=np.array([[2,1],[4,3]])\n",
        "B=np.array([[5,2],[2,2]])\n",
        "v=np.array([2,1])"
      ],
      "execution_count": 0,
      "outputs": []
    },
    {
      "cell_type": "markdown",
      "metadata": {
        "id": "53BXy9nTI-sH",
        "colab_type": "text"
      },
      "source": [
        "Matrix-vector multiplication and matrix-matrix multiplication are done as follows"
      ]
    },
    {
      "cell_type": "code",
      "metadata": {
        "id": "jSqSYN0FI-sI",
        "colab_type": "code",
        "colab": {}
      },
      "source": [
        "np.dot(A,v)"
      ],
      "execution_count": 0,
      "outputs": []
    },
    {
      "cell_type": "code",
      "metadata": {
        "id": "HTOYVutvI-sP",
        "colab_type": "code",
        "colab": {}
      },
      "source": [
        "np.dot(A,B)"
      ],
      "execution_count": 0,
      "outputs": []
    },
    {
      "cell_type": "markdown",
      "metadata": {
        "id": "Ekt2_vyNI-sU",
        "colab_type": "text"
      },
      "source": [
        "Transpose"
      ]
    },
    {
      "cell_type": "code",
      "metadata": {
        "id": "Lxh-Y1uRI-sW",
        "colab_type": "code",
        "colab": {}
      },
      "source": [
        "A.T"
      ],
      "execution_count": 0,
      "outputs": []
    },
    {
      "cell_type": "markdown",
      "metadata": {
        "id": "xptD_gVfI-sg",
        "colab_type": "text"
      },
      "source": [
        "Eigenvalues and eigenvectors. The following returns an array (not diagonal matrix) of lambda (eigenvalues) and U (eigenvector matrix). The first column corresponds to the first eigenvalue etc.\n",
        "\n",
        "Eigenvectors are normalised to be length 1.\n",
        "\n",
        "(j here is the square root of -1. Eigenvalues and eigenvectors can have complex number entries.)"
      ]
    },
    {
      "cell_type": "code",
      "metadata": {
        "id": "FfInfR9TI-si",
        "colab_type": "code",
        "colab": {}
      },
      "source": [
        "[lambda_arr,U] = linalg.eig(B) # \n",
        "print(lambda_arr)\n",
        "print(U)"
      ],
      "execution_count": 0,
      "outputs": []
    },
    {
      "cell_type": "markdown",
      "metadata": {
        "id": "7wrePdb-I-sn",
        "colab_type": "text"
      },
      "source": [
        "# Part 2: Pre-processing"
      ]
    },
    {
      "cell_type": "markdown",
      "metadata": {
        "id": "er9kVsJRI-so",
        "colab_type": "text"
      },
      "source": [
        "Here, we will look into normalisation and PCA. We will be working with two-dimensional\n",
        "data as it is much easier to visualise, however, it is important that any function you write can be generalised\n",
        "to an arbitrary number of dimensions."
      ]
    },
    {
      "cell_type": "markdown",
      "metadata": {
        "id": "GuRKMgrLI-sr",
        "colab_type": "text"
      },
      "source": [
        "For each of these questions, you can consider writing your own code but it's OK if you don't."
      ]
    },
    {
      "cell_type": "markdown",
      "metadata": {
        "id": "BU-v5-w8I-sw",
        "colab_type": "text"
      },
      "source": [
        "Pre-processing package of sklearn:\n",
        "\n",
        "https://scikit-learn.org/stable/modules/preprocessing.html\n",
        "\n",
        "A good resource on PCA:\n",
        "\n",
        "https://jakevdp.github.io/PythonDataScienceHandbook/05.09-principal-component-analysis.html"
      ]
    },
    {
      "cell_type": "markdown",
      "metadata": {
        "id": "oxwRs7PwI-sy",
        "colab_type": "text"
      },
      "source": [
        "Let's generate some data"
      ]
    },
    {
      "cell_type": "code",
      "metadata": {
        "id": "9KH1mj-uI-sz",
        "colab_type": "code",
        "colab": {}
      },
      "source": [
        "nbpts=100 # number of data points to generate\n",
        "\n",
        "mu=[5,10] # mean of x and mean of y\n",
        "sigma=[1,4] # standard deviation of x and standard deviation of y\n",
        "corr=0.8 # correlation between x and y. This lies between -1 and 1.\n",
        "cov=corr*sigma[0]*sigma[1]  #covariance, which is correlation times the 2 std devs.\n",
        "\n",
        "C=[[sigma[0]**2,cov],[cov,sigma[1]**2]] #  covariance matrix\n",
        "\n",
        "data=np.random.multivariate_normal(mu,C,nbpts)"
      ],
      "execution_count": 0,
      "outputs": []
    },
    {
      "cell_type": "code",
      "metadata": {
        "id": "5IhO4twXI-s4",
        "colab_type": "code",
        "colab": {}
      },
      "source": [
        "plt.scatter(data[:,0],data[:,1])"
      ],
      "execution_count": 0,
      "outputs": []
    },
    {
      "cell_type": "markdown",
      "metadata": {
        "id": "A9KDaUmHI-s9",
        "colab_type": "text"
      },
      "source": [
        "### Q1 Simple normalisation\n",
        "\n",
        "Use simple normalisation and plot the original and normalised data on the same\n",
        "graph."
      ]
    },
    {
      "cell_type": "code",
      "metadata": {
        "id": "Icbi0JZaI-s-",
        "colab_type": "code",
        "colab": {}
      },
      "source": [
        ""
      ],
      "execution_count": 0,
      "outputs": []
    },
    {
      "cell_type": "markdown",
      "metadata": {
        "id": "W5O8-z-_I-tF",
        "colab_type": "text"
      },
      "source": [
        "### Q2 PCA\n",
        "\n",
        "Use Principal Component Analysis to reduce the dimension of the data to 1 (i.e. use one principal\n",
        "component). What happens if you use two principal components?"
      ]
    },
    {
      "cell_type": "markdown",
      "metadata": {
        "id": "r2jDgqI4I-tI",
        "colab_type": "text"
      },
      "source": [
        "### Extension. Whitening"
      ]
    },
    {
      "cell_type": "markdown",
      "metadata": {
        "id": "jfVcU3LoI-tK",
        "colab_type": "text"
      },
      "source": [
        "Use the whitening method described in the lecture notes and plot the original and whitened data on the same graph."
      ]
    },
    {
      "cell_type": "code",
      "metadata": {
        "id": "jdODAMbBI-tO",
        "colab_type": "code",
        "colab": {}
      },
      "source": [
        ""
      ],
      "execution_count": 0,
      "outputs": []
    }
  ]
}