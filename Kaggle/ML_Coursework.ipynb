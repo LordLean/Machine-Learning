{
  "nbformat": 4,
  "nbformat_minor": 0,
  "metadata": {
    "colab": {
      "name": "ML_Coursework.ipynb",
      "provenance": [],
      "collapsed_sections": [],
      "machine_shape": "hm",
      "authorship_tag": "ABX9TyPnl9NdsnWMJzPusbaL66R4",
      "include_colab_link": true
    },
    "kernelspec": {
      "name": "python3",
      "display_name": "Python 3"
    }
  },
  "cells": [
    {
      "cell_type": "markdown",
      "metadata": {
        "id": "view-in-github",
        "colab_type": "text"
      },
      "source": [
        "<a href=\"https://colab.research.google.com/github/LordLean/Machine-Learning/blob/master/Kaggle/ML_Coursework.ipynb\" target=\"_parent\"><img src=\"https://colab.research.google.com/assets/colab-badge.svg\" alt=\"Open In Colab\"/></a>"
      ]
    },
    {
      "cell_type": "code",
      "metadata": {
        "id": "_DQcGG2FEjGb",
        "colab_type": "code",
        "colab": {
          "resources": {
            "http://localhost:8080/nbextensions/google.colab/files.js": {
              "data": "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",
              "ok": true,
              "headers": [
                [
                  "content-type",
                  "application/javascript"
                ]
              ],
              "status": 200,
              "status_text": ""
            }
          },
          "base_uri": "https://localhost:8080/",
          "height": 90
        },
        "outputId": "1fc2b8c8-6d2e-4740-e08f-a67f7920e70d"
      },
      "source": [
        "from google.colab import files\n",
        "files.upload()"
      ],
      "execution_count": 1,
      "outputs": [
        {
          "output_type": "display_data",
          "data": {
            "text/html": [
              "\n",
              "     <input type=\"file\" id=\"files-88a42d02-a81f-4193-8f74-a35d21d42e53\" name=\"files[]\" multiple disabled />\n",
              "     <output id=\"result-88a42d02-a81f-4193-8f74-a35d21d42e53\">\n",
              "      Upload widget is only available when the cell has been executed in the\n",
              "      current browser session. Please rerun this cell to enable.\n",
              "      </output>\n",
              "      <script src=\"/nbextensions/google.colab/files.js\"></script> "
            ],
            "text/plain": [
              "<IPython.core.display.HTML object>"
            ]
          },
          "metadata": {
            "tags": []
          }
        },
        {
          "output_type": "stream",
          "text": [
            "Saving kaggle.json to kaggle.json\n"
          ],
          "name": "stdout"
        },
        {
          "output_type": "execute_result",
          "data": {
            "text/plain": [
              "{'kaggle.json': b'{\"username\":\"alexholder\",\"key\":\"<>\"}'}"
            ]
          },
          "metadata": {
            "tags": []
          },
          "execution_count": 1
        }
      ]
    },
    {
      "cell_type": "code",
      "metadata": {
        "id": "8LiNT-LaErzg",
        "colab_type": "code",
        "colab": {
          "base_uri": "https://localhost:8080/",
          "height": 532
        },
        "outputId": "d41473e4-41d0-4ec3-bf55-33b75bba0b9c"
      },
      "source": [
        "# Make directory and copy.\n",
        "!mkdir -p ~/.kaggle\n",
        "!cp kaggle.json ~/.kaggle/\n",
        "\n",
        "#!pip install kaggle # Install kaggle.\n",
        "\n",
        "# Change access permissions.\n",
        "!chmod 600 /root/.kaggle/kaggle.json\n",
        "\n",
        "#!kaggle datasets list # Lists kaggle datasets.\n",
        "\n",
        "# Download using Kaggle API.\n",
        "!kaggle competitions download -c brighton-a-memorable-city\n",
        "\n",
        "# Unzip data\n",
        "!unzip additional_training.csv\n",
        "!unzip training.csv\n",
        "!unzip testing.csv\n",
        "\n",
        "# List files in dir.\n",
        "!ls"
      ],
      "execution_count": 2,
      "outputs": [
        {
          "output_type": "stream",
          "text": [
            "Warning: Looks like you're using an outdated API Version, please consider updating (server 1.5.6 / client 1.5.4)\n",
            "Downloading test_proportions.csv to /content\n",
            "  0% 0.00/30.0 [00:00<?, ?B/s]\n",
            "100% 30.0/30.0 [00:00<00:00, 51.9kB/s]\n",
            "Downloading testing.csv.zip to /content\n",
            " 85% 73.0M/85.7M [00:01<00:00, 33.7MB/s]\n",
            "100% 85.7M/85.7M [00:01<00:00, 53.9MB/s]\n",
            "Downloading additional_training.csv.zip to /content\n",
            " 64% 9.00M/14.2M [00:00<00:00, 22.8MB/s]\n",
            "100% 14.2M/14.2M [00:00<00:00, 31.9MB/s]\n",
            "Downloading sample_valid_submission.csv to /content\n",
            "  0% 0.00/81.9k [00:00<?, ?B/s]\n",
            "100% 81.9k/81.9k [00:00<00:00, 86.1MB/s]\n",
            "Downloading annotation_confidence.csv to /content\n",
            "  0% 0.00/19.6k [00:00<?, ?B/s]\n",
            "100% 19.6k/19.6k [00:00<00:00, 21.1MB/s]\n",
            "Downloading training.csv.zip to /content\n",
            "  0% 0.00/1.65M [00:00<?, ?B/s]\n",
            "100% 1.65M/1.65M [00:00<00:00, 54.3MB/s]\n",
            "Archive:  additional_training.csv.zip\n",
            "  inflating: additional_training.csv  \n",
            "Archive:  training.csv.zip\n",
            "  inflating: training.csv            \n",
            "Archive:  testing.csv.zip\n",
            "  inflating: testing.csv             \n",
            "additional_training.csv      sample_data\t\t  test_proportions.csv\n",
            "additional_training.csv.zip  sample_valid_submission.csv  training.csv\n",
            "annotation_confidence.csv    testing.csv\t\t  training.csv.zip\n",
            "kaggle.json\t\t     testing.csv.zip\n"
          ],
          "name": "stdout"
        }
      ]
    },
    {
      "cell_type": "code",
      "metadata": {
        "id": "Sj4wletpIhSU",
        "colab_type": "code",
        "colab": {}
      },
      "source": [
        "import numpy as np\n",
        "import pandas as pd\n",
        "import matplotlib.pyplot as plt\n",
        "\n",
        "from sklearn.neural_network import MLPClassifier\n",
        "from sklearn.metrics import classification_report,confusion_matrix\n",
        "from sklearn.preprocessing import StandardScaler\n",
        "from sklearn.decomposition import PCA"
      ],
      "execution_count": 0,
      "outputs": []
    },
    {
      "cell_type": "code",
      "metadata": {
        "id": "TfbR80S6InuE",
        "colab_type": "code",
        "colab": {}
      },
      "source": [
        "train = pd.read_csv(\"/content/training.csv\")\n",
        "test = pd.read_csv(\"/content/testing.csv\")\n",
        "test_proportions = pd.read_csv(\"/content/test_proportions.csv\")"
      ],
      "execution_count": 0,
      "outputs": []
    },
    {
      "cell_type": "code",
      "metadata": {
        "id": "OCscxaKVtmp7",
        "colab_type": "code",
        "colab": {
          "base_uri": "https://localhost:8080/",
          "height": 585
        },
        "outputId": "9f58ff55-9b1f-46f9-b7c8-dbda8edbe9a3"
      },
      "source": [
        "print(train[:].head())\n",
        "print(train[:].tail())\n",
        "\n",
        "print(test[:].head())\n",
        "print(test[:].tail())"
      ],
      "execution_count": 5,
      "outputs": [
        {
          "output_type": "stream",
          "text": [
            "   ID     CNNs   CNNs.1  CNNs.2  ...  GIST.509  GIST.510  GIST.511  prediction\n",
            "0   1  0.00000  0.00000     0.0  ...  0.016819  0.013863  0.020987           1\n",
            "1   2  0.00000  0.00000     0.0  ...  0.022172  0.025843  0.020629           1\n",
            "2   3  0.00000  0.00000     0.0  ...  0.016838  0.018631  0.014774           1\n",
            "3   4  0.21168  0.53031     0.0  ...  0.022226  0.041484  0.016790           1\n",
            "4   5  0.00000  0.00000     0.0  ...  0.006265  0.006707  0.013045           1\n",
            "\n",
            "[5 rows x 4610 columns]\n",
            "      ID     CNNs   CNNs.1   CNNs.2  ...  GIST.509  GIST.510  GIST.511  prediction\n",
            "242  243  0.00000  0.00000  0.00000  ...  0.045320  0.029119  0.022450           1\n",
            "243  244  0.32344  0.36752  0.41601  ...  0.017803  0.033699  0.021059           1\n",
            "244  245  0.00000  0.00000  0.00000  ...  0.042757  0.077547  0.029385           1\n",
            "245  246  0.61978  0.00000  0.00000  ...  0.033392  0.048006  0.030306           1\n",
            "246  247  0.00000  0.00000  0.00000  ...  0.027922  0.022340  0.010484           1\n",
            "\n",
            "[5 rows x 4610 columns]\n",
            "   ID     CNNs   CNNs.1   CNNs.2  ...  GIST.508  GIST.509  GIST.510  GIST.511\n",
            "0   1  0.17006  0.56194  0.00000  ...  0.046790  0.045160  0.024613  0.017370\n",
            "1   2  0.00000  0.00000  0.00000  ...  0.021820  0.021052  0.041294  0.021800\n",
            "2   3  0.00000  0.00000  0.00000  ...  0.032854  0.036091  0.024968  0.019759\n",
            "3   4  0.00000  0.00000  0.11766  ...  0.063078  0.033617  0.038866  0.050231\n",
            "4   5  0.00000  0.00000  0.00000  ...  0.017562  0.011259  0.028914  0.018655\n",
            "\n",
            "[5 rows x 4609 columns]\n",
            "          ID     CNNs   CNNs.1   CNNs.2  ...  GIST.508  GIST.509  GIST.510  GIST.511\n",
            "11869  11870  0.40844  0.00000  0.19764  ...  0.024837  0.056891  0.035763  0.012013\n",
            "11870  11871  1.05970  0.00000  0.00000  ...  0.019954  0.021078  0.033262  0.028035\n",
            "11871  11872  0.00000  0.00000  0.00000  ...  0.032306  0.016357  0.022982  0.034376\n",
            "11872  11873  0.00000  0.00000  0.00000  ...  0.003394  0.005886  0.005672  0.003684\n",
            "11873  11874  0.54513  0.41296  0.33441  ...  0.039496  0.028001  0.033201  0.035021\n",
            "\n",
            "[5 rows x 4609 columns]\n"
          ],
          "name": "stdout"
        }
      ]
    },
    {
      "cell_type": "code",
      "metadata": {
        "id": "R_Pq2_xyPtEC",
        "colab_type": "code",
        "colab": {
          "base_uri": "https://localhost:8080/",
          "height": 357
        },
        "outputId": "d52d201c-b837-4374-8b16-50722bd436f2"
      },
      "source": [
        "split_spot = 40\n",
        "\n",
        "train_split_train = train.iloc[:split_spot, 1:-1].to_numpy(copy=True)\n",
        "train_pred_train = train.iloc[:split_spot, -1].to_numpy(copy=True)\n",
        "print(\"Length match: {}\".format(len(train_split_train) == len(train_pred_train)))\n",
        "\n",
        "train_split_test = train.iloc[split_spot: ,1:-1].to_numpy(copy=True)\n",
        "train_pred_test = train.iloc[split_spot: ,-1].to_numpy(copy=True)\n",
        "\n",
        "X = train_split_train\n",
        "y = train_pred_train \n",
        "\n",
        "clf = MLPClassifier(solver=\"lbfgs\", alpha=1e-5, random_state=1)\n",
        "\n",
        "clf.fit(X,y)\n",
        "\n",
        "predictions = clf.predict(train_split_test)\n",
        "\n",
        "accuracy = 0 \n",
        "\n",
        "for i, (p1,p2) in enumerate(zip(predictions, train_pred_test)):\n",
        "  if p1 == p2:\n",
        "    accuracy += 1\n",
        "\n",
        "print(\"Proportional Accuracy: {}\".format(accuracy / len(predictions)))\n",
        "\n",
        "\n",
        "conf = confusion_matrix(train_pred_test, predictions)\n",
        "df = pd.DataFrame(conf)\n",
        "print(df)\n",
        "\n",
        "plt.imshow(conf, cmap=\"binary\", interpolation=\"None\")\n",
        "#plt.axis(\"off\")\n",
        "plt.show()"
      ],
      "execution_count": 6,
      "outputs": [
        {
          "output_type": "stream",
          "text": [
            "Length match: True\n",
            "Proportional Accuracy: 0.8309178743961353\n",
            "   0    1\n",
            "0  1   31\n",
            "1  4  171\n"
          ],
          "name": "stdout"
        },
        {
          "output_type": "display_data",
          "data": {
            "image/png": "[encoded data removed]",
            "text/plain": [
              "<Figure size 432x288 with 1 Axes>"
            ]
          },
          "metadata": {
            "tags": [],
            "needs_background": "light"
          }
        }
      ]
    },
    {
      "cell_type": "code",
      "metadata": {
        "id": "Dgv_dLsXBFFd",
        "colab_type": "code",
        "colab": {
          "base_uri": "https://localhost:8080/",
          "height": 34
        },
        "outputId": "649f959d-535c-4915-8454-721190a3759b"
      },
      "source": [
        "# Standardized Data\n",
        "\n",
        "# Cut for all necesaary training values.\n",
        "train_values = train.iloc[:, 1:-1]\n",
        "# Get all observed predictions.\n",
        "train_observed = train.iloc[:, -1]\n",
        "# Compare to check equal length.\n",
        "print(\"Equal Length: {}\".format(len(train_values)==len(train_observed)))\n",
        "# Pull .values() for test.\n",
        "test_values = test.iloc[:,1:].to_numpy(copy=True)\n",
        "\n",
        "# to_numpy() for extracting just values.\n",
        "X = train_values.to_numpy(copy=True)\n",
        "y = train_observed.to_numpy(copy=True) \n",
        "\n",
        "# Standardize training data.\n",
        "scaler = StandardScaler()\n",
        "scaler.fit(X)\n",
        "X = scaler.transform(X)\n",
        "\n",
        "# Standardize testing data.\n",
        "test_values = scaler.transform(test_values)"
      ],
      "execution_count": 53,
      "outputs": [
        {
          "output_type": "stream",
          "text": [
            "Equal Length: True\n"
          ],
          "name": "stdout"
        }
      ]
    },
    {
      "cell_type": "code",
      "metadata": {
        "id": "ZMCWmiiyzQbd",
        "colab_type": "code",
        "colab": {}
      },
      "source": [
        "# Split standardizer by hand. ---- Seems to be working.\n",
        "\n",
        "df_cnn = train.iloc[:, 1:-513]\n",
        "df_gist = train.iloc[:, -513:-1]\n",
        "\n",
        "X_cnn = df_cnn.to_numpy(copy=True)\n",
        "X_gist = df_gist.to_numpy(copy=True)\n",
        "\n",
        "mean = X_cnn.mean()\n",
        "std = X_cnn.std()\n",
        "\n",
        "X_cnn = (X_cnn - mean) / std\n",
        "\n",
        "mean = X_gist.mean()\n",
        "std = X_gist.std()\n",
        "\n",
        "X_gist = (X_gist - mean) / std\n",
        "\n",
        "X_test = np.concatenate((X_cnn,X_gist),axis=1)"
      ],
      "execution_count": 0,
      "outputs": []
    },
    {
      "cell_type": "code",
      "metadata": {
        "id": "M4ix2rA15YyY",
        "colab_type": "code",
        "colab": {}
      },
      "source": [
        "# Split standardizer by hand.\n",
        "\n",
        "# Training data.\n",
        "df_cnn = train.iloc[:, 1:-513]\n",
        "df_gist = train.iloc[:, -513:-1]\n",
        "\n",
        "X_cnn = df_cnn.to_numpy(copy=True)\n",
        "X_gist = df_gist.to_numpy(copy=True)\n",
        "\n",
        "# Testing data.\n",
        "df_test_cnn = test.iloc[:,1:-512]\n",
        "df_test_gist = test.iloc[:,-512:]\n",
        "\n",
        "test_values_cnn = df_test_cnn.to_numpy(copy=True)\n",
        "test_values_gist = df_test_gist.to_numpy(copy=True)\n",
        "\n",
        "# Training scaling.\n",
        "mean = X_cnn.mean()\n",
        "std = X_cnn.std()\n",
        "\n",
        "X_cnn = (X_cnn - mean) / std\n",
        "test_values_cnn = (test_values_cnn - mean) / std\n",
        "\n",
        "# Testing scaling.\n",
        "mean = X_gist.mean()\n",
        "std = X_gist.std()\n",
        "\n",
        "X_gist = (X_gist - mean) / std\n",
        "test_values_gist = (test_values_gist - mean) / std\n",
        "\n",
        "#Create final np arrays for training/test.\n",
        "X_test = np.concatenate((X_cnn,X_gist),axis=1)\n",
        "test_values = np.concatenate((test_values_cnn,test_values_gist),axis=1)"
      ],
      "execution_count": 0,
      "outputs": []
    },
    {
      "cell_type": "code",
      "metadata": {
        "id": "jMrPDQ9u7TF5",
        "colab_type": "code",
        "colab": {
          "base_uri": "https://localhost:8080/",
          "height": 52
        },
        "outputId": "c7062511-aff5-4103-c1b1-734cad1ffa70"
      },
      "source": [
        "print(X_cnn.shape,test_values_cnn.shape)\n",
        "print(X_gist.shape,test_values_gist.shape)"
      ],
      "execution_count": 76,
      "outputs": [
        {
          "output_type": "stream",
          "text": [
            "(247, 4096) (11874, 4096)\n",
            "(247, 512) (11874, 512)\n"
          ],
          "name": "stdout"
        }
      ]
    },
    {
      "cell_type": "code",
      "metadata": {
        "id": "6sthEF04NO-a",
        "colab_type": "code",
        "colab": {}
      },
      "source": [
        "# Params:\n",
        "\n",
        "classifier_data = X_test\n",
        "\n",
        "test_values_2 = test.iloc[:,1:].to_numpy(copy=True)\n",
        "\n",
        "\n",
        "hddn_lyrs = (100,100,100,100)\n",
        "mx_itr = 250\n",
        "\n",
        "# No diff so far.\n",
        "lr = { \"c\" : 'constant', \"i\": 'invscaling', \"a\":'adaptive'}"
      ],
      "execution_count": 0,
      "outputs": []
    },
    {
      "cell_type": "code",
      "metadata": {
        "id": "ncneZVmYOszZ",
        "colab_type": "code",
        "colab": {}
      },
      "source": [
        "# Classifier.\n",
        "clf = MLPClassifier(solver=\"lbfgs\",\n",
        "                    hidden_layer_sizes=hddn_lyrs,\n",
        "                    max_iter=mx_itr,\n",
        "                    alpha=1e-5,\n",
        "                    random_state=1,\n",
        "                    learning_rate=lr[\"c\"]\n",
        "                    )\n",
        "\n",
        "clf.fit(classifier_data,y)\n",
        "\n",
        "# Predictions.\n",
        "predictions_final = clf.predict(test_values)"
      ],
      "execution_count": 0,
      "outputs": []
    },
    {
      "cell_type": "code",
      "metadata": {
        "id": "RmNN34T1EHCn",
        "colab_type": "code",
        "colab": {
          "base_uri": "https://localhost:8080/",
          "height": 230
        },
        "outputId": "753ec988-68c3-4a37-cee0-87ee95f07f16"
      },
      "source": [
        "# Calculate extremely rough \"accuracy\" from proportion of data correct.\n",
        "\n",
        "class_0 = 0\n",
        "class_1 = 0\n",
        "\n",
        "for val in predictions_final:\n",
        "  if val == 0:\n",
        "    class_0 += 1\n",
        "  elif val == 1:\n",
        "    class_1 += 1\n",
        "\n",
        "total = len(predictions_final)\n",
        "\n",
        "pred_0 = round((class_0 / total), 4)\n",
        "pred_1 = round((class_1 / total), 4) \n",
        "\n",
        "actual_0 = float(test_proportions.iloc[0,0][:6])\n",
        "actual_1 = round((1 - actual_0),4)\n",
        "\n",
        "dif = abs(pred_0 - actual_0)\n",
        "percent_dif = dif / np.mean([pred_0,actual_0]) * 100\n",
        "\n",
        "print(\"Class 0 Non memorable: \\nPredicted proportion: {} \\nActual proportion:    {}\\n\".format(pred_0,actual_0))\n",
        "print(\"Class 1 Memorable: \\nPredicted proportion: {} \\nActual proportion:    {}\\n\".format(pred_1,actual_1))\n",
        "print(\"Percentage difference pred_0 and actual_0 is:\\n{}%\\nDifference of:\\n{}\".format(round(percent_dif,2), round(dif,4)))"
      ],
      "execution_count": 80,
      "outputs": [
        {
          "output_type": "stream",
          "text": [
            "Class 0 Non memorable: \n",
            "Predicted proportion: 0.2948 \n",
            "Actual proportion:    0.6152\n",
            "\n",
            "Class 1 Memorable: \n",
            "Predicted proportion: 0.7052 \n",
            "Actual proportion:    0.3848\n",
            "\n",
            "Percentage difference pred_0 and actual_0 is:\n",
            "70.42%\n",
            "Difference of:\n",
            "0.3204\n"
          ],
          "name": "stdout"
        }
      ]
    },
    {
      "cell_type": "code",
      "metadata": {
        "id": "kqIyvsRnhixt",
        "colab_type": "code",
        "colab": {}
      },
      "source": [
        "# 0.6152 class 0      non memorable.\n",
        "# 0.3848 class 1      memorable."
      ],
      "execution_count": 0,
      "outputs": []
    },
    {
      "cell_type": "code",
      "metadata": {
        "id": "m1-4s0x9XkVl",
        "colab_type": "code",
        "colab": {}
      },
      "source": [
        "# Create and download .csv file.\n",
        "rnge = np.arange(1,len(predictions_final)+1)\n",
        "df = pd.DataFrame({\"ID\": rnge, \"prediction\": predictions_final})\n",
        "df.to_csv(\"submission1.csv\", index=False)"
      ],
      "execution_count": 0,
      "outputs": []
    },
    {
      "cell_type": "code",
      "metadata": {
        "id": "V8sdUD74cN7M",
        "colab_type": "code",
        "colab": {
          "base_uri": "https://localhost:8080/",
          "height": 87
        },
        "outputId": "726595c9-d25b-412e-b50b-7852cd974680"
      },
      "source": [
        "!ls"
      ],
      "execution_count": 83,
      "outputs": [
        {
          "output_type": "stream",
          "text": [
            "additional_training.csv      sample_data\t\t  testing.csv.zip\n",
            "additional_training.csv.zip  sample_valid_submission.csv  test_proportions.csv\n",
            "annotation_confidence.csv    submission1.csv\t\t  training.csv\n",
            "kaggle.json\t\t     testing.csv\t\t  training.csv.zip\n"
          ],
          "name": "stdout"
        }
      ]
    },
    {
      "cell_type": "code",
      "metadata": {
        "id": "ac5bnBeNSniT",
        "colab_type": "code",
        "colab": {
          "base_uri": "https://localhost:8080/",
          "height": 70
        },
        "outputId": "69e34870-47e3-4a88-a998-30915c590350"
      },
      "source": [
        "# Run to submit to Kaggle competition.\n",
        "!kaggle competitions submit brighton-a-memorable-city -f submission1.csv -m \"woo\""
      ],
      "execution_count": 84,
      "outputs": [
        {
          "output_type": "stream",
          "text": [
            "Warning: Looks like you're using an outdated API Version, please consider updating (server 1.5.6 / client 1.5.4)\n",
            "100% 81.9k/81.9k [00:03<00:00, 22.5kB/s]\n",
            "Successfully submitted to Brighton, a memorable city!"
          ],
          "name": "stdout"
        }
      ]
    },
    {
      "cell_type": "code",
      "metadata": {
        "id": "tY3sev_dYFqS",
        "colab_type": "code",
        "colab": {}
      },
      "source": [
        "files.download(\"submission1.csv\")"
      ],
      "execution_count": 0,
      "outputs": []
    },
    {
      "cell_type": "markdown",
      "metadata": {
        "id": "_mSFa0j4OUPJ",
        "colab_type": "text"
      },
      "source": [
        " <br>"
      ]
    },
    {
      "cell_type": "code",
      "metadata": {
        "id": "2eczMrw0WeMQ",
        "colab_type": "code",
        "colab": {}
      },
      "source": [
        "# Total Data.\n",
        "# Total Data.\n",
        "# Total Data.\n",
        "# Total Data.\n",
        "# Total Data.\n",
        "\n",
        "# Get all training values.\n",
        "train_values = train.iloc[:, 1:-1].to_numpy(copy=True)\n",
        "# Get all observed predictions.\n",
        "train_observed = train.iloc[:, -1].to_numpy(copy=True)\n",
        "# Compare to check equal length.\n",
        "print(len(train_values))\n",
        "print(len(train_observed))\n",
        "\n",
        "# Non-standardized Data\n",
        "X = train_values\n",
        "y = train_observed \n",
        "\n",
        "# Values to test on.\n",
        "test_values = test.iloc[:,1:].to_numpy(copy=True)\n",
        "\n",
        "# Classifier.\n",
        "clf = MLPClassifier(solver=\"lbfgs\", hidden_layer_sizes=(100,), max_iter=200, alpha=1e-5, random_state=1)\n",
        "\n",
        "clf.fit(X,y)\n",
        "\n",
        "# Predictions.\n",
        "predictions_final = clf.predict(test_values)"
      ],
      "execution_count": 0,
      "outputs": []
    },
    {
      "cell_type": "code",
      "metadata": {
        "id": "XG-2qpT8c4-p",
        "colab_type": "code",
        "colab": {
          "base_uri": "https://localhost:8080/",
          "height": 586
        },
        "outputId": "875076b3-7d7a-414e-db6d-24a1474d343a"
      },
      "source": [
        "pca = PCA(n_components=2)\n",
        "\n",
        "principalComponents = pca.fit_transform(X)\n",
        "\n",
        "principalDf = pd.DataFrame(data=principalComponents, columns=[\"PC1\",\"PC2\"])\n",
        "\n",
        "finalDf = pd.concat([principalDf, train.iloc[:, -1]], axis = 1)\n",
        "\n",
        "print(finalDf)\n",
        "\n",
        "\n",
        "labels=train.iloc[:, -1]\n",
        "cdict={0:'red',1:'green'}\n",
        "labl={0:'class0',1:'class1'}\n",
        "marker={0:'*',1:'o'}\n",
        "alpha={0:1, 1:.5}\n",
        "fig,ax=plt.subplots(figsize=(7,5))\n",
        "fig.patch.set_facecolor('white')\n",
        "for l in np.unique(labels):\n",
        " ax.scatter(finalDf[\"PC1\"],finalDf[\"PC2\"],c=cdict[l],s=40,\n",
        "           label=labl[l],marker=marker[l],alpha=alpha[l])\n",
        "# for loop ends\n",
        "plt.xlabel(\"First Principal Component\",fontsize=14)\n",
        "plt.ylabel(\"Second Principal Component\",fontsize=14)\n",
        "plt.legend()\n",
        "plt.show()\n",
        "# please check the scatter plot of the remaining component and you will understand the difference"
      ],
      "execution_count": 57,
      "outputs": [
        {
          "output_type": "stream",
          "text": [
            "           PC1        PC2  prediction\n",
            "0   -16.916169  -2.736490           1\n",
            "1    -0.520619  27.631201           1\n",
            "2   -25.449642 -11.383133           1\n",
            "3    25.396863 -25.939131           1\n",
            "4   -22.679241 -22.238217           1\n",
            "..         ...        ...         ...\n",
            "242  15.903745   1.902198           1\n",
            "243  23.974364  -3.685243           1\n",
            "244 -13.254892  27.873253           1\n",
            "245  23.423197  -5.449488           1\n",
            "246   1.781705  -3.269530           1\n",
            "\n",
            "[247 rows x 3 columns]\n"
          ],
          "name": "stdout"
        },
        {
          "output_type": "display_data",
          "data": {
            "image/png": "[encoded data removed]",
            "text/plain": [
              "<Figure size 504x360 with 1 Axes>"
            ]
          },
          "metadata": {
            "tags": []
          }
        }
      ]
    }
  ]
}
