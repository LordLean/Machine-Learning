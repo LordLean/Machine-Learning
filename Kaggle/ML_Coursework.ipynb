{
  "nbformat": 4,
  "nbformat_minor": 0,
  "metadata": {
    "colab": {
      "name": "ML_Coursework.ipynb",
      "provenance": [],
      "collapsed_sections": [],
      "machine_shape": "hm",
      "authorship_tag": "ABX9TyO/LmeVh4gUa8x5tARCVsWa",
      "include_colab_link": true
    },
    "kernelspec": {
      "name": "python3",
      "display_name": "Python 3"
    }
  },
  "cells": [
    {
      "cell_type": "markdown",
      "metadata": {
        "id": "view-in-github",
        "colab_type": "text"
      },
      "source": [
        "<a href=\"https://colab.research.google.com/github/LordLean/Machine-Learning/blob/master/Kaggle/ML_Coursework.ipynb\" target=\"_parent\"><img src=\"https://colab.research.google.com/assets/colab-badge.svg\" alt=\"Open In Colab\"/></a>"
      ]
    },
    {
      "cell_type": "code",
      "metadata": {
        "id": "_DQcGG2FEjGb",
        "colab_type": "code",
        "colab": {}
      },
      "source": [
        "from google.colab import files\n",
        "files.upload()"
      ],
      "execution_count": 0,
      "outputs": []
    },
    {
      "cell_type": "code",
      "metadata": {
        "id": "8LiNT-LaErzg",
        "colab_type": "code",
        "outputId": "6ccb1f21-b49b-45b1-aa6b-1158277f7b9e",
        "colab": {
          "base_uri": "https://localhost:8080/",
          "height": 461
        }
      },
      "source": [
        "# Make directory and copy.\n",
        "!mkdir -p ~/.kaggle\n",
        "!cp kaggle.json ~/.kaggle/\n",
        "\n",
        "#!pip install kaggle # Install kaggle.\n",
        "\n",
        "# Change access permissions.\n",
        "!chmod 600 /root/.kaggle/kaggle.json\n",
        "\n",
        "#!kaggle datasets list # Lists kaggle datasets.\n",
        "\n",
        "# Download using Kaggle API.\n",
        "!kaggle competitions download -c brighton-a-memorable-city\n",
        "\n",
        "# Unzip data\n",
        "!unzip additional_training.csv\n",
        "!unzip training.csv\n",
        "!unzip testing.csv\n",
        "\n",
        "# List files in dir.\n",
        "# !ls"
      ],
      "execution_count": 3,
      "outputs": [
        {
          "output_type": "stream",
          "text": [
            "Warning: Looks like you're using an outdated API Version, please consider updating (server 1.5.6 / client 1.5.4)\n",
            "Downloading test_proportions.csv to /content\n",
            "  0% 0.00/30.0 [00:00<?, ?B/s]\n",
            "100% 30.0/30.0 [00:00<00:00, 25.7kB/s]\n",
            "Downloading training.csv.zip to /content\n",
            "  0% 0.00/1.65M [00:00<?, ?B/s]\n",
            "100% 1.65M/1.65M [00:00<00:00, 54.6MB/s]\n",
            "Downloading sample_valid_submission.csv to /content\n",
            "  0% 0.00/81.9k [00:00<?, ?B/s]\n",
            "100% 81.9k/81.9k [00:00<00:00, 84.7MB/s]\n",
            "Downloading annotation_confidence.csv to /content\n",
            "  0% 0.00/19.6k [00:00<?, ?B/s]\n",
            "100% 19.6k/19.6k [00:00<00:00, 19.1MB/s]\n",
            "Downloading testing.csv.zip to /content\n",
            " 76% 65.0M/85.7M [00:01<00:00, 31.2MB/s]\n",
            "100% 85.7M/85.7M [00:01<00:00, 65.7MB/s]\n",
            "Downloading additional_training.csv.zip to /content\n",
            " 64% 9.00M/14.2M [00:00<00:00, 21.2MB/s]\n",
            "100% 14.2M/14.2M [00:00<00:00, 31.9MB/s]\n",
            "Archive:  additional_training.csv.zip\n",
            "  inflating: additional_training.csv  \n",
            "Archive:  training.csv.zip\n",
            "  inflating: training.csv            \n",
            "Archive:  testing.csv.zip\n",
            "  inflating: testing.csv             \n"
          ],
          "name": "stdout"
        }
      ]
    },
    {
      "cell_type": "code",
      "metadata": {
        "id": "Sj4wletpIhSU",
        "colab_type": "code",
        "colab": {}
      },
      "source": [
        "import numpy as np\n",
        "import pandas as pd\n",
        "import matplotlib.pyplot as plt\n",
        "\n",
        "from sklearn.pipeline import make_pipeline\n",
        "\n",
        "from sklearn.neural_network import MLPClassifier\n",
        "\n",
        "from sklearn.metrics import confusion_matrix\n",
        "\n",
        "from imblearn.under_sampling import TomekLinks\n",
        "\n",
        "from sklearn.utils import shuffle, resample\n",
        "\n",
        "from sklearn.feature_selection import VarianceThreshold\n",
        "from sklearn.decomposition import PCA\n",
        "\n",
        "from sklearn.preprocessing import StandardScaler\n",
        "from sklearn.preprocessing import MinMaxScaler\n",
        "from sklearn.preprocessing import minmax_scale\n",
        "from sklearn.preprocessing import MaxAbsScaler\n",
        "from sklearn.preprocessing import RobustScaler\n",
        "from sklearn.preprocessing import Normalizer\n",
        "from sklearn.preprocessing import QuantileTransformer\n",
        "from sklearn.preprocessing import PowerTransformer"
      ],
      "execution_count": 0,
      "outputs": []
    },
    {
      "cell_type": "code",
      "metadata": {
        "id": "TfbR80S6InuE",
        "colab_type": "code",
        "colab": {}
      },
      "source": [
        "train = pd.read_csv(\"/content/training.csv\")\n",
        "test = pd.read_csv(\"/content/testing.csv\")\n",
        "test_proportions = pd.read_csv(\"/content/test_proportions.csv\")"
      ],
      "execution_count": 0,
      "outputs": []
    },
    {
      "cell_type": "code",
      "metadata": {
        "id": "R_Pq2_xyPtEC",
        "colab_type": "code",
        "outputId": "8ebaf0d6-a495-4867-e04b-e44768b2b648",
        "colab": {
          "base_uri": "https://localhost:8080/",
          "height": 357
        },
        "cellView": "form"
      },
      "source": [
        "#@title Example Split on Training Data.\n",
        "\n",
        "# Train on train, test on train[split].\n",
        "\n",
        "split_spot = 40\n",
        "\n",
        "train_split_train = train.iloc[:split_spot, 1:-1].to_numpy(copy=True)\n",
        "train_pred_train = train.iloc[:split_spot, -1].to_numpy(copy=True)\n",
        "print(\"Length match: {}\".format(len(train_split_train) == len(train_pred_train)))\n",
        "\n",
        "train_split_test = train.iloc[split_spot: ,1:-1].to_numpy(copy=True)\n",
        "train_pred_test = train.iloc[split_spot: ,-1].to_numpy(copy=True)\n",
        "\n",
        "X = train_split_train\n",
        "y = train_pred_train \n",
        "\n",
        "clf = MLPClassifier(solver=\"lbfgs\", alpha=1e-5, random_state=1)\n",
        "\n",
        "clf.fit(X,y)\n",
        "\n",
        "predictions = clf.predict(train_split_test)\n",
        "\n",
        "accuracy = 0 \n",
        "\n",
        "for i, (p1,p2) in enumerate(zip(predictions, train_pred_test)):\n",
        "  if p1 == p2:\n",
        "    accuracy += 1\n",
        "\n",
        "print(\"Proportional Accuracy: {}\".format(accuracy / len(predictions)))\n",
        "\n",
        "\n",
        "conf = confusion_matrix(train_pred_test, predictions)\n",
        "df = pd.DataFrame(conf)\n",
        "print(df)\n",
        "\n",
        "plt.imshow(conf, cmap=\"binary\", interpolation=\"None\")\n",
        "#plt.axis(\"off\")\n",
        "plt.show()"
      ],
      "execution_count": 447,
      "outputs": [
        {
          "output_type": "stream",
          "text": [
            "Length match: True\n",
            "Proportional Accuracy: 0.8309178743961353\n",
            "   0    1\n",
            "0  1   31\n",
            "1  4  171\n"
          ],
          "name": "stdout"
        },
        {
          "output_type": "display_data",
          "data": {
            "image/png": "[encoded data removed]",
            "text/plain": [
              "<Figure size 432x288 with 1 Axes>"
            ]
          },
          "metadata": {
            "tags": [],
            "needs_background": "light"
          }
        }
      ]
    },
    {
      "cell_type": "code",
      "metadata": {
        "id": "D5kFC5_KxhZy",
        "colab_type": "code",
        "colab": {},
        "cellView": "form"
      },
      "source": [
        "#@title GRAPH METHODS { vertical-output: true }\n",
        "\n",
        "# Graph-rep. Functions.\n",
        "\n",
        "# Plot bar.\n",
        "def plotbargraph(trn, tst_prop):\n",
        "\n",
        "  # Data representation:\n",
        "\n",
        "  # Get all observed predictions 0 / 1.\n",
        "  trn_observed = trn.iloc[:, -1]\n",
        "  # .values()\n",
        "  y_ = trn_observed.to_numpy(copy=True)\n",
        "\n",
        "  # Training ---\n",
        "  trn_c0 = np.count_nonzero(y_ == 0)\n",
        "  trn_c1 = np.count_nonzero(y_ == 1)\n",
        "\n",
        "  autolabel_vals = [trn_c0,trn_c1] # Hold vals for rect labels.\n",
        "\n",
        "  trn_c0 = round((trn_c0/len(y)*100),2)\n",
        "  trn_c1 = round((trn_c1/len(y)*100),2)\n",
        "  trn_bar = [trn_c0,trn_c1] # Hold vals for bar plot.\n",
        "\n",
        "\n",
        "  # Testing ---\n",
        "  tst_c0 = float(test_proportions.iloc[0,0][:6])\n",
        "\n",
        "  # Hold vals for rect labels.\n",
        "  autolabel_vals.append(tst_c0*len(test))\n",
        "  autolabel_vals.append((1-tst_c0)*len(test))\n",
        "\n",
        "  tst_c0 = round((tst_c0*100),2)\n",
        "  tst_c1 = 100 - tst_c0\n",
        "  tst_bar = [tst_c0,tst_c1] # Hold vals for bar plot.\n",
        "\n",
        "\n",
        "  print(\"Proportions\")\n",
        "  print(\"Training data:  Class0: {}%   Class1: {}%\".format(trn_c0,trn_c1) +\n",
        "        \"   Proportion: {} : 1\".format(round((trn_c0/trn_c1),4)))\n",
        "  print(\"Testing data:   Class0: {}%   Class1: {}%\".format(tst_c0,tst_c1) + \n",
        "        \"   Proportion: {} : 1\".format(round((tst_c0/tst_c1),4)))\n",
        "\n",
        "\n",
        "  # Bar Plot.\n",
        "  labels = [\"Class0 - Memorable\", \"Class1 - Non Memorable\"]\n",
        "  x = np.arange(len(labels))\n",
        "  width = 0.25\n",
        "\n",
        "  fig, ax = plt.subplots()\n",
        "  rects1 = ax.bar(x - width/2, trn_bar, width, label='Train')\n",
        "  rects2 = ax.bar(x + width/2, tst_bar, width, label='Test')\n",
        "\n",
        "  ax.set_ylabel(\"PERCENTAGE PROPORTION\")\n",
        "  ax.set_ylim([0,100])\n",
        "  #ax.axes.get_yaxis().set_visible(False)\n",
        "  ax.set_xticks(x)\n",
        "  ax.set_xticklabels(labels)\n",
        "  ax.legend()\n",
        "\n",
        "\n",
        "  xyz = list()\n",
        "  ############\n",
        "  '''https://matplotlib.org/3.1.1/gallery/lines_bars_and_markers/barchart.html'''\n",
        "  def autolabel(rects):\n",
        "    for i, rect in enumerate(rects):\n",
        "      height = rect.get_height()\n",
        "      xy=(rect.get_x() + rect.get_width() / 2, height)\n",
        "      xyz.append(xy)\n",
        "    for i, (coord, val) in enumerate(zip(xyz,autolabel_vals)):\n",
        "      ax.annotate(s=round(val),\n",
        "                  xy=coord,\n",
        "                  xytext=(0, 3),  # 3 points vertical offset\n",
        "                  textcoords=\"offset points\",\n",
        "                  ha='center', va='bottom')\n",
        "  autolabel(rects1)\n",
        "  autolabel(rects2)\n",
        "  ############\n",
        "\n",
        "\n",
        "  fig.tight_layout()\n",
        "\n",
        "  plt.show()\n",
        "\n",
        "\n",
        "# Plot scatter.\n",
        "def plot_2d_space(X, y, label='Classes'):   \n",
        "    colors = ['#1F77B4', '#FF7F0E']\n",
        "    markers = ['o', 'o']\n",
        "    for l, c, m in zip(np.unique(y), colors, markers):\n",
        "        plt.scatter(\n",
        "            X[y==l, 0],\n",
        "            X[y==l, 1],\n",
        "            c=c, label=l, marker=m\n",
        "        )\n",
        "    plt.title(label)\n",
        "    plt.legend(loc='upper right')\n",
        "    plt.show()"
      ],
      "execution_count": 0,
      "outputs": []
    },
    {
      "cell_type": "code",
      "metadata": {
        "id": "Pf4GE58-IM10",
        "colab_type": "code",
        "colab": {},
        "cellView": "form"
      },
      "source": [
        "#@title SET UP\n",
        "# START--------------------------------------------------------------------------------------------------\n",
        "# -------------------------------------------------------------------------------------------------------\n",
        "# -------------------------------------------------------------------------------------------------------\n",
        "train = pd.read_csv(\"/content/training.csv\")\n",
        "# ------ Set up observed predictions.\n",
        "\n",
        "# Get all observed predictions 0 / 1.\n",
        "train_observed = train.iloc[:, -1]\n",
        "# .values()\n",
        "y = train_observed.to_numpy(copy=True) \n",
        "# Throughout this notebook classifiers etc are fed numpy arrays. This was due to\n",
        "# certain trial classifiers prefering np array to pd etc DataFrames.\n",
        "\n",
        "# Random seed.\n",
        "seed = 260498"
      ],
      "execution_count": 0,
      "outputs": []
    },
    {
      "cell_type": "code",
      "metadata": {
        "id": "XQAyI44v9JjM",
        "colab_type": "code",
        "outputId": "ba51460a-95d9-42eb-9432-ff8946883444",
        "colab": {
          "base_uri": "https://localhost:8080/",
          "height": 632
        },
        "cellView": "form"
      },
      "source": [
        "#@title ORIGINAL DISTRIBUTION\n",
        "# BAR\n",
        "plotbargraph(train, test_proportions)\n",
        "\n",
        "# PCA -----\n",
        "pca = PCA(n_components=2)\n",
        "\n",
        "hold = train.iloc[:,1:-1]\n",
        "\n",
        "X_pca = pca.fit_transform(hold)\n",
        "\n",
        "plot_2d_space(X_pca, y)\n",
        "\n",
        "len(X_pca)"
      ],
      "execution_count": 395,
      "outputs": [
        {
          "output_type": "stream",
          "text": [
            "Proportions\n",
            "Training data:  Class0: 15.38%   Class1: 84.62%   Proportion: 0.1818 : 1\n",
            "Testing data:   Class0: 61.52%   Class1: 38.48%   Proportion: 1.5988 : 1\n"
          ],
          "name": "stdout"
        },
        {
          "output_type": "display_data",
          "data": {
            "image/png": "[encoded data removed]",
            "text/plain": [
              "<Figure size 432x288 with 1 Axes>"
            ]
          },
          "metadata": {
            "tags": [],
            "needs_background": "light"
          }
        },
        {
          "output_type": "display_data",
          "data": {
            "image/png": "[encoded data removed]",
            "text/plain": [
              "<Figure size 432x288 with 1 Axes>"
            ]
          },
          "metadata": {
            "tags": [],
            "needs_background": "light"
          }
        },
        {
          "output_type": "execute_result",
          "data": {
            "text/plain": [
              "247"
            ]
          },
          "metadata": {
            "tags": []
          },
          "execution_count": 395
        }
      ]
    },
    {
      "cell_type": "code",
      "metadata": {
        "id": "v0DmupzAPw13",
        "colab_type": "code",
        "colab": {
          "base_uri": "https://localhost:8080/",
          "height": 34
        },
        "cellView": "form",
        "outputId": "dfc30226-dc3c-4e54-da8f-d17a05319210"
      },
      "source": [
        "#@title SKLEARN RESAMPLE (OVER-SAMPLE)\n",
        "# RESAMPLING.                             # Curr score - 0.68092\n",
        "# ----------- Up sampling minority class.\n",
        "\n",
        "#train = pd.read_csv(\"/content/training.csv\")\n",
        "\n",
        "# Minority class.\n",
        "c = 0 \n",
        "minority = train.loc[train[\"prediction\"] == c]\n",
        "\n",
        "# Num. of samples equal across classes.\n",
        "num = len(train) - 2 * len(minority)\n",
        "# Increase to match test data ratio if wanted.\n",
        "num = round(num * 1.7)\n",
        "\n",
        "print(\"{} rows added to training data with class{} scores.\".format(num, c))\n",
        "\n",
        "class0_upsampled = resample(minority,\n",
        "                           replace=True,\n",
        "                           n_samples=num,\n",
        "                           random_state=seed\n",
        "                           )\n",
        "\n",
        "# Concat new class0 sample and original train.\n",
        "train = pd.concat([train, class0_upsampled])\n",
        "\n",
        "# Shuffle. \n",
        "train = shuffle(train, random_state=seed)\n",
        "\n",
        "\n",
        "# Fix INDEX OF TRAIN DATA.\n",
        "train = train.reset_index(drop=True).reset_index().drop(columns=[\"ID\"])\n",
        "train.columns.values[0] = \"ID\"\n",
        "train[\"ID\"] += 1\n",
        "\n",
        "\n",
        "# Update target array.\n",
        "# Get all observed predictions 0 / 1.\n",
        "train_observed = train.iloc[:, -1]\n",
        "# .values()\n",
        "y = train_observed.to_numpy(copy=True)"
      ],
      "execution_count": 396,
      "outputs": [
        {
          "output_type": "stream",
          "text": [
            "291 rows added to training data with class0 scores.\n"
          ],
          "name": "stdout"
        }
      ]
    },
    {
      "cell_type": "code",
      "metadata": {
        "id": "gq89rTuU0ps8",
        "colab_type": "code",
        "colab": {
          "base_uri": "https://localhost:8080/",
          "height": 107
        },
        "outputId": "078bbc39-ce15-4789-8a6e-09883fa8d3cc"
      },
      "source": [
        "from imblearn.over_sampling import ADASYN\n",
        "from imblearn.over_sampling import SMOTE, BorderlineSMOTE, SVMSMOTE, SMOTENC\n",
        "#from imblearn.over_sampling import KMeansSMOTE\n",
        "from imblearn.over_sampling import RandomOverSampler\n",
        "\n",
        "# Reset if needed.\n",
        "train = pd.read_csv(\"/content/training.csv\")\n",
        "train_observed = train.iloc[:, -1]\n",
        "\n",
        "# vvvvvvv RUN AND SUBMIT THIS LAST ONE vvvvvvv\n",
        "ovrsmplr = RandomOverSampler(random_state=seed)\n",
        "\n",
        "X_res, _ = ovrsmplr.fit_resample(train, train_observed)\n",
        "print(\"{} rows added to training data with class0 scores.\\n\".format(len(X_res)-len(train)))\n",
        "train = pd.DataFrame(X_res)\n",
        "\n",
        "train_observed = train.iloc[:, -1]\n",
        "# .values()\n",
        "y = train_observed.to_numpy(copy=True) "
      ],
      "execution_count": 433,
      "outputs": [
        {
          "output_type": "stream",
          "text": [
            "171 rows added to training data with class0 scores.\n",
            "\n"
          ],
          "name": "stdout"
        },
        {
          "output_type": "stream",
          "text": [
            "/usr/local/lib/python3.6/dist-packages/sklearn/utils/deprecation.py:87: FutureWarning: Function safe_indexing is deprecated; safe_indexing is deprecated in version 0.22 and will be removed in version 0.24.\n",
            "  warnings.warn(msg, category=FutureWarning)\n"
          ],
          "name": "stderr"
        }
      ]
    },
    {
      "cell_type": "code",
      "metadata": {
        "id": "M2L32aepGS9g",
        "colab_type": "code",
        "outputId": "b359dd6a-c0ac-40a5-9561-d0230b4bc610",
        "colab": {
          "base_uri": "https://localhost:8080/",
          "height": 632
        },
        "cellView": "form"
      },
      "source": [
        "#@title RESAMPLED DISTRIBUTION\n",
        "# BAR\n",
        "plotbargraph(train, test_proportions)\n",
        "\n",
        "# PCA\n",
        "pca = PCA(n_components=2)\n",
        "\n",
        "hold = train.iloc[:,1:-1]\n",
        "\n",
        "X_pca = pca.fit_transform(hold)\n",
        "\n",
        "plot_2d_space(X_pca, y)\n",
        "\n",
        "len(X_pca)"
      ],
      "execution_count": 435,
      "outputs": [
        {
          "output_type": "stream",
          "text": [
            "Proportions\n",
            "Training data:  Class0: 50.0%   Class1: 50.0%   Proportion: 1.0 : 1\n",
            "Testing data:   Class0: 61.52%   Class1: 38.48%   Proportion: 1.5988 : 1\n"
          ],
          "name": "stdout"
        },
        {
          "output_type": "display_data",
          "data": {
            "image/png": "[encoded data removed]",
            "text/plain": [
              "<Figure size 432x288 with 1 Axes>"
            ]
          },
          "metadata": {
            "tags": [],
            "needs_background": "light"
          }
        },
        {
          "output_type": "display_data",
          "data": {
            "image/png": "[encoded data removed]",
            "text/plain": [
              "<Figure size 432x288 with 1 Axes>"
            ]
          },
          "metadata": {
            "tags": [],
            "needs_background": "light"
          }
        },
        {
          "output_type": "execute_result",
          "data": {
            "text/plain": [
              "418"
            ]
          },
          "metadata": {
            "tags": []
          },
          "execution_count": 435
        }
      ]
    },
    {
      "cell_type": "code",
      "metadata": {
        "id": "M4ix2rA15YyY",
        "colab_type": "code",
        "colab": {}
      },
      "source": [
        "# ------ Set up training and testing data.\n",
        "\n",
        "# Split standardizer by hand.\n",
        "# Training data.\n",
        "df_cnn = train.iloc[:, 1:-513]\n",
        "df_gist = train.iloc[:, -513:-1]\n",
        "\n",
        "X_cnn = df_cnn.to_numpy(copy=True)\n",
        "X_gist = df_gist.to_numpy(copy=True)\n",
        "\n",
        "# Testing data.\n",
        "df_test_cnn = test.iloc[:,1:-512]\n",
        "df_test_gist = test.iloc[:,-512:]\n",
        "\n",
        "test_values_cnn = df_test_cnn.to_numpy(copy=True)\n",
        "test_values_gist = df_test_gist.to_numpy(copy=True)\n",
        "\n",
        "\n",
        "# Set scale method.\n",
        "scale_setting = 1\n",
        "\n",
        "if scale_setting == 0:\n",
        "  # Standardize training data.\n",
        "  scaler = MinMaxScaler()\n",
        "  X_cnn = scaler.fit_transform(X_cnn)\n",
        "  test_values_cnn = scaler.transform(test_values_cnn)\n",
        "\n",
        "  # Standardize training data.\n",
        "  scaler = MinMaxScaler()\n",
        "  X_gist = scaler.fit_transform(X_gist)\n",
        "  test_values_gist = scaler.transform(test_values_gist)\n",
        "\n",
        "elif scale_setting == 1:\n",
        "  # Training scaling.\n",
        "  mean = X_cnn.mean()\n",
        "  std = X_cnn.std()\n",
        "\n",
        "  X_cnn = (X_cnn - mean) / std\n",
        "  test_values_cnn = (test_values_cnn - mean) / std\n",
        "\n",
        "  # Testing scaling.\n",
        "  mean = X_gist.mean()\n",
        "  std = X_gist.std()\n",
        "\n",
        "  X_gist = (X_gist - mean) / std\n",
        "  test_values_gist = (test_values_gist - mean) / std\n",
        "\n",
        "\n",
        "#Create final np arrays for training/test.\n",
        "X_standardized = np.concatenate((X_cnn,X_gist),axis=1)\n",
        "test_data_standardized = np.concatenate((test_values_cnn,test_values_gist),axis=1)"
      ],
      "execution_count": 0,
      "outputs": []
    },
    {
      "cell_type": "code",
      "metadata": {
        "id": "h3IA-Abc4K_A",
        "colab_type": "code",
        "colab": {}
      },
      "source": [
        "# Params:\n",
        "\n",
        "X = X_standardized\n",
        "\n",
        "test_data = test_data_standardized\n",
        "\n",
        "# X = train.iloc[:,1:-1]\n",
        "# test_data = test.iloc[:,1:]\n",
        "\n",
        "\n",
        "hddn_lyrs = (100,100,100,100)\n",
        "mx_itr = 100\n",
        "\n",
        "# No diff so far.\n",
        "lr = { \"c\" : 'constant', \"i\": 'invscaling', \"a\":'adaptive'}"
      ],
      "execution_count": 0,
      "outputs": []
    },
    {
      "cell_type": "code",
      "metadata": {
        "id": "RmNN34T1EHCn",
        "colab_type": "code",
        "colab": {},
        "cellView": "form"
      },
      "source": [
        "#@title ROUGH ESTIMATOR FUNCTION\n",
        "# Calculate extremely rough \"accuracy\" from proportion of data correct.\n",
        "def estimate(preds_final):\n",
        "  class_0 = 0\n",
        "  class_1 = 0\n",
        "\n",
        "  for val in preds_final:\n",
        "    if val == 0:\n",
        "      class_0 += 1\n",
        "    elif val == 1:\n",
        "      class_1 += 1\n",
        "\n",
        "  total = len(preds_final)\n",
        "\n",
        "  pred_0 = round((class_0 / total), 4)\n",
        "  pred_1 = round((class_1 / total), 4) \n",
        "\n",
        "  actual_0 = float(test_proportions.iloc[0,0][:6])\n",
        "  actual_1 = round((1 - actual_0),4)\n",
        "\n",
        "  dif = abs(pred_0 - actual_0)\n",
        "  percent_dif = dif / np.mean([pred_0,actual_0]) * 100\n",
        "\n",
        "  print(\"Class 0 Non memorable: \\nPredicted proportion: {} \\nActual proportion:    {}\\n\".format(pred_0,actual_0))\n",
        "  print(\"Class 1 Memorable: \\nPredicted proportion: {} \\nActual proportion:    {}\\n\".format(pred_1,actual_1))\n",
        "  print(\"Percentage difference pred_0 and actual_0 is:\\n{}%\\nDifference of:\\n{}\".format(round(percent_dif,2), round(dif,4)))"
      ],
      "execution_count": 0,
      "outputs": []
    },
    {
      "cell_type": "code",
      "metadata": {
        "id": "ncneZVmYOszZ",
        "colab_type": "code",
        "colab": {
          "base_uri": "https://localhost:8080/",
          "height": 230
        },
        "outputId": "2320718b-82df-45cc-b852-b52ef2ca6241"
      },
      "source": [
        "# MLP Classifier.\n",
        "clf = MLPClassifier(solver=\"adam\",\n",
        "                    hidden_layer_sizes=hddn_lyrs,\n",
        "                    max_iter=mx_itr,\n",
        "                    alpha=1e-5,\n",
        "                    random_state=1,\n",
        "                    learning_rate=lr[\"c\"]\n",
        "                    )\n",
        "\n",
        "clf.fit(X,y)\n",
        "\n",
        "# Predictions.\n",
        "predictions_final = clf.predict(test_data)\n",
        "\n",
        "estimate(predictions_final)\n",
        "# Curr score - 0.68092"
      ],
      "execution_count": 448,
      "outputs": [
        {
          "output_type": "stream",
          "text": [
            "Class 0 Non memorable: \n",
            "Predicted proportion: 0.4362 \n",
            "Actual proportion:    0.6152\n",
            "\n",
            "Class 1 Memorable: \n",
            "Predicted proportion: 0.5638 \n",
            "Actual proportion:    0.3848\n",
            "\n",
            "Percentage difference pred_0 and actual_0 is:\n",
            "34.05%\n",
            "Difference of:\n",
            "0.179\n"
          ],
          "name": "stdout"
        }
      ]
    },
    {
      "cell_type": "code",
      "metadata": {
        "id": "_NcWSVZnyGru",
        "colab_type": "code",
        "outputId": "a1433e57-4b93-4254-b736-a44ea441378e",
        "colab": {
          "base_uri": "https://localhost:8080/",
          "height": 230
        }
      },
      "source": [
        "#@title PIPELINE SET UP\n",
        "\n",
        "# PIPELINE\n",
        "clf = make_pipeline(MLPClassifier(solver=\"lbfgs\",\n",
        "                                                                            hidden_layer_sizes=hddn_lyrs,\n",
        "                                                                            max_iter=mx_itr,\n",
        "                                                                            alpha=1e-5,\n",
        "                                                                            random_state=1,\n",
        "                                                                            learning_rate=lr[\"c\"]))\n",
        "clf.fit(X, y)\n",
        "\n",
        "predictions_final = clf.predict(test_data)\n",
        "\n",
        "estimate(predictions_final)"
      ],
      "execution_count": 440,
      "outputs": [
        {
          "output_type": "stream",
          "text": [
            "Class 0 Non memorable: \n",
            "Predicted proportion: 0.3233 \n",
            "Actual proportion:    0.6152\n",
            "\n",
            "Class 1 Memorable: \n",
            "Predicted proportion: 0.6767 \n",
            "Actual proportion:    0.3848\n",
            "\n",
            "Percentage difference pred_0 and actual_0 is:\n",
            "62.21%\n",
            "Difference of:\n",
            "0.2919\n"
          ],
          "name": "stdout"
        }
      ]
    },
    {
      "cell_type": "code",
      "metadata": {
        "id": "3WX7KQUrHEBP",
        "colab_type": "code",
        "colab": {}
      },
      "source": [
        "clf.steps"
      ],
      "execution_count": 0,
      "outputs": []
    },
    {
      "cell_type": "code",
      "metadata": {
        "id": "cYv1NDq0srpX",
        "colab_type": "code",
        "colab": {}
      },
      "source": [
        "catch this cell"
      ],
      "execution_count": 0,
      "outputs": []
    },
    {
      "cell_type": "code",
      "metadata": {
        "id": "m1-4s0x9XkVl",
        "colab_type": "code",
        "colab": {}
      },
      "source": [
        "# Create and download .csv file.\n",
        "rnge = np.arange(1,len(predictions_final)+1)\n",
        "df = pd.DataFrame({\"ID\": rnge, \"prediction\": predictions_final})\n",
        "df.to_csv(\"submission1.csv\", index=False)"
      ],
      "execution_count": 0,
      "outputs": []
    },
    {
      "cell_type": "code",
      "metadata": {
        "id": "V8sdUD74cN7M",
        "colab_type": "code",
        "colab": {}
      },
      "source": [
        "#!ls"
      ],
      "execution_count": 0,
      "outputs": []
    },
    {
      "cell_type": "code",
      "metadata": {
        "id": "ac5bnBeNSniT",
        "colab_type": "code",
        "outputId": "2ea7d5b1-21ee-430c-8185-7bc3e0c43f5a",
        "colab": {
          "base_uri": "https://localhost:8080/",
          "height": 70
        }
      },
      "source": [
        "# Run to submit to Kaggle competition.\n",
        "!kaggle competitions submit brighton-a-memorable-city -f submission1.csv -m \"woo\""
      ],
      "execution_count": 445,
      "outputs": [
        {
          "output_type": "stream",
          "text": [
            "Warning: Looks like you're using an outdated API Version, please consider updating (server 1.5.6 / client 1.5.4)\n",
            "100% 105k/105k [00:03<00:00, 31.4kB/s]\n",
            "403 - Your team has used its submission allowance (5 of 5). This resets at midnight UTC (5.2 hours from now).\n"
          ],
          "name": "stdout"
        }
      ]
    },
    {
      "cell_type": "code",
      "metadata": {
        "id": "tY3sev_dYFqS",
        "colab_type": "code",
        "colab": {}
      },
      "source": [
        "files.download(\"submission1.csv\")"
      ],
      "execution_count": 0,
      "outputs": []
    },
    {
      "cell_type": "code",
      "metadata": {
        "id": "kqIyvsRnhixt",
        "colab_type": "code",
        "colab": {}
      },
      "source": [
        "# 0.6152 class 0      non memorable.\n",
        "# 0.3848 class 1      memorable."
      ],
      "execution_count": 0,
      "outputs": []
    },
    {
      "cell_type": "markdown",
      "metadata": {
        "id": "1rK8PDQso284",
        "colab_type": "text"
      },
      "source": [
        "<br>"
      ]
    },
    {
      "cell_type": "code",
      "metadata": {
        "id": "rqqpf5EWY4Cq",
        "colab_type": "code",
        "colab": {},
        "cellView": "form"
      },
      "source": [
        "#@title SMOTETOMEK COMBINE RESAMPLER\n",
        "# from imblearn.combine import SMOTETomek\n",
        "\n",
        "# v_curr = len(train)\n",
        "\n",
        "# gg = train.iloc[:,1:-1]\n",
        "\n",
        "# smt = SMOTETomek(ratio='auto', random_state=seed)\n",
        "# X_smt, y_smt = smt.fit_resample(gg, train_observed)\n",
        "\n",
        "# df_X_smt = pd.DataFrame(X_smt)\n",
        "# df_y_smt = pd.DataFrame(y_smt)\n",
        "\n",
        "# df_total = pd.concat([df_X_smt,df_y_smt], axis=1)\n",
        "\n",
        "\n",
        "# train = df_total.reset_index()\n",
        "\n",
        "# v_curr = len(train) - v_curr\n",
        "# print(\"{} rows added to training data\".format(v_curr))\n",
        "\n",
        "# # Shuffle. \n",
        "# train = shuffle(train, random_state=seed)\n",
        "\n",
        "# # Update target array.\n",
        "# # Get all observed predictions 0 / 1.\n",
        "# train_observed = train.iloc[:, -1]\n",
        "# # .values()\n",
        "# y = train_observed.to_numpy(copy=True)"
      ],
      "execution_count": 0,
      "outputs": []
    },
    {
      "cell_type": "code",
      "metadata": {
        "id": "ekqmIZjUoTkr",
        "colab_type": "code",
        "colab": {},
        "cellView": "form"
      },
      "source": [
        "#@title SMOTEEEN COMBINE RESAMPLER\n",
        "# from imblearn.combine import SMOTEENN\n",
        "\n",
        "# v_curr = len(train)\n",
        "\n",
        "# gg = train.iloc[:,1:-1]\n",
        "\n",
        "# smt = SMOTEENN(ratio='auto', random_state=seed)\n",
        "# X_smt, y_smt = smt.fit_resample(gg, train_observed)\n",
        "\n",
        "# df_X_smt = pd.DataFrame(X_smt)\n",
        "# df_y_smt = pd.DataFrame(y_smt)\n",
        "\n",
        "# df_total = pd.concat([df_X_smt,df_y_smt], axis=1)\n",
        "\n",
        "\n",
        "# train = df_total.reset_index()\n",
        "\n",
        "# v_curr = len(train) - v_curr\n",
        "# print(\"{} rows added to training data\".format(v_curr))\n",
        "\n",
        "# # Shuffle. \n",
        "# train = shuffle(train, random_state=seed)\n",
        "\n",
        "# # Update target array.\n",
        "# # Get all observed predictions 0 / 1.\n",
        "# train_observed = train.iloc[:, -1]\n",
        "# # .values()\n",
        "# y = train_observed.to_numpy(copy=True)"
      ],
      "execution_count": 0,
      "outputs": []
    },
    {
      "cell_type": "code",
      "metadata": {
        "id": "Y_CftxCObI6G",
        "colab_type": "code",
        "colab": {},
        "cellView": "form"
      },
      "source": [
        "#@title TOMEKS LINKS UNDERSAMPLING METHODS.\n",
        "# Tomeks links --------------------\n",
        "\n",
        "# # RESAMPLING.\n",
        "# # ---------- Remove from majority class.\n",
        "\n",
        "# # Removing TomekLinks.\n",
        "# df_cnn = train.iloc[:, 1:-513]\n",
        "# df_gist = train.iloc[:, -513:-1]\n",
        "\n",
        "# # CNN features.\n",
        "# t1 = TomekLinks(return_indices=True, ratio=\"majority\")\n",
        "# X_t1, y_t1, id_t1 = t1.fit_resample(df_cnn, train_observed)\n",
        "\n",
        "# # GIST features.\n",
        "# t2 = TomekLinks(return_indices=True, ratio=\"majority\")\n",
        "# X_t2, y_t2, id_t2 = t2.fit_resample(df_gist, train_observed)\n",
        "\n",
        "# # List to hold Tomek's links indicies.\n",
        "# index_removal = list()\n",
        "# for index in np.arange(len(train)):\n",
        "#   if index in id_t1:\n",
        "#     pass\n",
        "#   else:\n",
        "#     index_removal.append(index)\n",
        "#   if index in id_t2:\n",
        "#     pass\n",
        "#   else:\n",
        "#     index_removal.append(index)\n",
        "\n",
        "\n",
        "# # Remove specified indicies from train.\n",
        "# train = train.drop(index_removal)\n",
        "\n",
        "# # Get all observed predictions 0 / 1.\n",
        "# train_observed = train.iloc[:, -1]\n",
        "# # .values()\n",
        "# y = train_observed.to_numpy(copy=True)\n",
        "\n",
        "\n",
        "# print(\"{} rows removed from train.target['class1'] majority class.\".format(len(index_removal)))"
      ],
      "execution_count": 0,
      "outputs": []
    },
    {
      "cell_type": "markdown",
      "metadata": {
        "id": "XKOJlzXMmnZZ",
        "colab_type": "text"
      },
      "source": [
        "<br>"
      ]
    },
    {
      "cell_type": "code",
      "metadata": {
        "id": "j-_jBqUt6ddT",
        "colab_type": "code",
        "colab": {},
        "cellView": "form"
      },
      "source": [
        "#@title GROUPED TWIN AXIS BAR PLOT\n",
        "\n",
        "\n",
        "# # Data representation:\n",
        "\n",
        "# # Training ---\n",
        "# trn_c0 = np.count_nonzero(y == 0)\n",
        "# trn_c1 = np.count_nonzero(y == 1)\n",
        "\n",
        "# plsdeleteAFTER = [trn_c0,trn_c1] #########\n",
        "# autolabel_vals = [trn_c0,trn_c1] # Hold vals for rect labels.\n",
        "\n",
        "# trn_c0 = round((trn_c0/len(y)*100),2)\n",
        "# trn_c1 = round((trn_c1/len(y)*100),2)\n",
        "# trn_bar = [trn_c0,trn_c1] # Hold vals for bar plot.\n",
        "\n",
        "\n",
        "# # Testing ---\n",
        "# tst_c0 = float(test_proportions.iloc[0,0][:6])\n",
        "\n",
        "# # Hold vals for rect labels.\n",
        "# autolabel_vals.append(tst_c0*len(test))\n",
        "# autolabel_vals.append((1-tst_c0)*len(test))\n",
        "# plsdeleteAFTER = [tst_c0*len(test),(1-tst_c0)*len(test)] #####\n",
        "\n",
        "# tst_c0 = round((tst_c0*100),2)\n",
        "# tst_c1 = 100 - tst_c0\n",
        "# tst_bar = [tst_c0,tst_c1] # Hold vals for bar plot.\n",
        "\n",
        "\n",
        "# print(\"Proportions\")\n",
        "# print(\"Training data:  Class0: {}%   Class1: {}%\".format(trn_c0,trn_c1) +\n",
        "#       \"   Proportion: {} : 1\".format(round((trn_c0/trn_c1),4)))\n",
        "# print(\"Testing data:   Class0: {}%   Class1: {}%\".format(tst_c0,tst_c1) + \n",
        "#       \"   Proportion: {} : 1\".format(round((tst_c0/tst_c1),4)))\n",
        "\n",
        "\n",
        "# # Bar Plot.\n",
        "# labels = [\"Class0 - Memorable\", \"Class1 - Non Memorable\"]\n",
        "# x = np.arange(len(labels))\n",
        "# width = 0.25\n",
        "\n",
        "# fig, ax = plt.subplots()\n",
        "# rects1 = ax.bar(x - width/2, trn_bar, width, label='Train')\n",
        "# rects2 = ax.bar(x + width/2, tst_bar, width, label='Test')\n",
        "\n",
        "# colour = \"tab:blue\"\n",
        "# ax.set_ylabel(\"TRAINING DATA\", color=colour)\n",
        "# ax.set_ylim([0,100])\n",
        "# ax.set_xticks(x)\n",
        "# ax.set_xticklabels(labels)\n",
        "# ax.legend()\n",
        "\n",
        "# ax2 = ax.twinx()\n",
        "# colour = \"tab:orange\"\n",
        "# ax2.set_ylabel(\"TESTING DATA\", color=colour)\n",
        "# ax2.tick_params(axis=\"y\", color=colour)\n",
        "\n",
        "# ############\n",
        "# # https://matplotlib.org/3.1.1/gallery/lines_bars_and_markers/barchart.html\n",
        "# def autolabel(rects):\n",
        "#   for i, rect in enumerate(rects):\n",
        "#     height = rect.get_height()\n",
        "#     ax.annotate('{}%'.format(height),\n",
        "#                 xy=(rect.get_x() + rect.get_width() / 2, height),\n",
        "#                 xytext=(0, 3),  # 3 points vertical offset\n",
        "#                 textcoords=\"offset points\",\n",
        "#                 ha='center', va='bottom')\n",
        "# ############\n",
        "\n",
        "\n",
        "# autolabel(rects1)\n",
        "# autolabel(rects2)\n",
        "\n",
        "# fig.tight_layout()\n",
        "\n",
        "# plt.show()"
      ],
      "execution_count": 0,
      "outputs": []
    },
    {
      "cell_type": "markdown",
      "metadata": {
        "id": "YLniXLiVmaUC",
        "colab_type": "text"
      },
      "source": [
        "<BR>"
      ]
    },
    {
      "cell_type": "code",
      "metadata": {
        "id": "JQ_OSqp8nAwk",
        "colab_type": "code",
        "colab": {},
        "cellView": "form"
      },
      "source": [
        "#@title SKLEARN RANDOM FOREST CLF\n",
        "\n",
        "# from sklearn.ensemble import RandomForestClassifier\n",
        "\n",
        "# # RANDOMFOREST Classifier.\n",
        "# clf = RandomForestClassifier(max_features=\"sqrt\",\n",
        "#                              max_depth=None,\n",
        "#                              min_samples_split=2\n",
        "#                              )\n",
        "\n",
        "# clf.fit(X,y)\n",
        "\n",
        "# predictions_final = clf.predict(test_data)"
      ],
      "execution_count": 0,
      "outputs": []
    },
    {
      "cell_type": "code",
      "metadata": {
        "id": "nf1AYYRwKC5A",
        "colab_type": "code",
        "colab": {},
        "cellView": "form"
      },
      "source": [
        "#@title SKLEARN SVM CLF\n",
        "# from sklearn import svm\n",
        "\n",
        "# # SVM Classifier.\n",
        "\n",
        "# clf = svm.SVC(kernel=\"rbf\")\n",
        "\n",
        "# clf.fit(X,y)\n",
        "\n",
        "# predictions_final = clf.predict(test_data)\n",
        "\n",
        "# # https://scikit-learn.org/stable/modules/svm.html"
      ],
      "execution_count": 0,
      "outputs": []
    },
    {
      "cell_type": "code",
      "metadata": {
        "id": "ug7Yn8GKSpK1",
        "colab_type": "code",
        "colab": {},
        "cellView": "form"
      },
      "source": [
        "#@title SKLEARN DECISION TREE CLF\n",
        "\n",
        "# from sklearn.tree import DecisionTreeClassifier\n",
        "\n",
        "# clf = DecisionTreeClassifier(random_state=seed)\n",
        "\n",
        "# clf.fit(X,y)\n",
        "\n",
        "# # Predictions.\n",
        "# predictions_final = clf.predict(test_data)"
      ],
      "execution_count": 0,
      "outputs": []
    },
    {
      "cell_type": "code",
      "metadata": {
        "id": "R1IybkQzlaPT",
        "colab_type": "code",
        "colab": {},
        "cellView": "form"
      },
      "source": [
        "#@title SKLEARN DECISION TREE CLF - GRAPHICAL TREE REP\n",
        "# from sklearn import tree\n",
        "\n",
        "# clf = tree.DecisionTreeClassifier(random_state=seed)\n",
        "\n",
        "# clf = clf.fit(X,y)\n",
        "\n",
        "# tree.plot_tree(clf.fit(X,y))"
      ],
      "execution_count": 0,
      "outputs": []
    }
  ]
}