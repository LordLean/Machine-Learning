{
  "nbformat": 4,
  "nbformat_minor": 0,
  "metadata": {
    "colab": {
      "name": "ML_Coursework.ipynb",
      "provenance": [],
      "collapsed_sections": [],
      "machine_shape": "hm",
      "authorship_tag": "ABX9TyNOSGTiapYoi/eVD0MtaF9s",
      "include_colab_link": true
    },
    "kernelspec": {
      "name": "python3",
      "display_name": "Python 3"
    }
  },
  "cells": [
    {
      "cell_type": "markdown",
      "metadata": {
        "id": "view-in-github",
        "colab_type": "text"
      },
      "source": [
        "<a href=\"https://colab.research.google.com/github/LordLean/Machine-Learning/blob/master/Kaggle/0_76583.ipynb\" target=\"_parent\"><img src=\"https://colab.research.google.com/assets/colab-badge.svg\" alt=\"Open In Colab\"/></a>"
      ]
    },
    {
      "cell_type": "code",
      "metadata": {
        "id": "_DQcGG2FEjGb",
        "colab_type": "code",
        "colab": {}
      },
      "source": [
        "from google.colab import files\n",
        "files.upload()"
      ],
      "execution_count": 0,
      "outputs": []
    },
    {
      "cell_type": "code",
      "metadata": {
        "id": "8LiNT-LaErzg",
        "colab_type": "code",
        "outputId": "4bb2387f-d2f0-4a0b-c743-fc198562519e",
        "colab": {
          "base_uri": "https://localhost:8080/",
          "height": 461
        }
      },
      "source": [
        "# Make directory and copy.\n",
        "!mkdir -p ~/.kaggle\n",
        "!cp kaggle.json ~/.kaggle/\n",
        "\n",
        "#!pip install kaggle # Install kaggle.\n",
        "\n",
        "# Change access permissions.\n",
        "!chmod 600 /root/.kaggle/kaggle.json\n",
        "\n",
        "#!kaggle datasets list # Lists kaggle datasets.\n",
        "\n",
        "# Download using Kaggle API.\n",
        "!kaggle competitions download -c brighton-a-memorable-city\n",
        "\n",
        "# Unzip data\n",
        "!unzip additional_training.csv\n",
        "!unzip training.csv\n",
        "!unzip testing.csv\n",
        "\n",
        "# List files in dir.\n",
        "# !ls"
      ],
      "execution_count": 2,
      "outputs": [
        {
          "output_type": "stream",
          "text": [
            "Warning: Looks like you're using an outdated API Version, please consider updating (server 1.5.6 / client 1.5.4)\n",
            "Downloading sample_valid_submission.csv to /content\n",
            "  0% 0.00/81.9k [00:00<?, ?B/s]\n",
            "100% 81.9k/81.9k [00:00<00:00, 32.1MB/s]\n",
            "Downloading annotation_confidence.csv to /content\n",
            "  0% 0.00/19.6k [00:00<?, ?B/s]\n",
            "100% 19.6k/19.6k [00:00<00:00, 19.9MB/s]\n",
            "Downloading test_proportions.csv to /content\n",
            "  0% 0.00/30.0 [00:00<?, ?B/s]\n",
            "100% 30.0/30.0 [00:00<00:00, 30.3kB/s]\n",
            "Downloading testing.csv.zip to /content\n",
            " 85% 73.0M/85.7M [00:01<00:00, 38.6MB/s]\n",
            "100% 85.7M/85.7M [00:01<00:00, 59.2MB/s]\n",
            "Downloading additional_training.csv.zip to /content\n",
            " 64% 9.00M/14.2M [00:00<00:00, 22.8MB/s]\n",
            "100% 14.2M/14.2M [00:00<00:00, 35.8MB/s]\n",
            "Downloading training.csv.zip to /content\n",
            "  0% 0.00/1.65M [00:00<?, ?B/s]\n",
            "100% 1.65M/1.65M [00:00<00:00, 113MB/s]\n",
            "Archive:  additional_training.csv.zip\n",
            "  inflating: additional_training.csv  \n",
            "Archive:  training.csv.zip\n",
            "  inflating: training.csv            \n",
            "Archive:  testing.csv.zip\n",
            "  inflating: testing.csv             \n"
          ],
          "name": "stdout"
        }
      ]
    },
    {
      "cell_type": "code",
      "metadata": {
        "id": "Sj4wletpIhSU",
        "colab_type": "code",
        "outputId": "cf28ee38-4273-47db-ee6d-c7ece94d4f4b",
        "colab": {
          "base_uri": "https://localhost:8080/",
          "height": 107
        }
      },
      "source": [
        "import numpy as np\n",
        "import pandas as pd\n",
        "import matplotlib.pyplot as plt\n",
        "\n",
        "from sklearn.pipeline import make_pipeline\n",
        "\n",
        "from sklearn.neural_network import MLPClassifier\n",
        "\n",
        "from sklearn.metrics import confusion_matrix\n",
        "\n",
        "from sklearn.impute import SimpleImputer\n",
        "\n",
        "from imblearn.under_sampling import TomekLinks\n",
        "\n",
        "from sklearn.utils import shuffle, resample\n",
        "\n",
        "from sklearn.feature_selection import VarianceThreshold\n",
        "from sklearn.decomposition import PCA\n",
        "\n",
        "from sklearn.preprocessing import StandardScaler\n",
        "from sklearn.preprocessing import MinMaxScaler\n",
        "from sklearn.preprocessing import minmax_scale\n",
        "from sklearn.preprocessing import MaxAbsScaler\n",
        "from sklearn.preprocessing import RobustScaler\n",
        "from sklearn.preprocessing import Normalizer\n",
        "from sklearn.preprocessing import QuantileTransformer\n",
        "from sklearn.preprocessing import PowerTransformer"
      ],
      "execution_count": 1,
      "outputs": [
        {
          "output_type": "stream",
          "text": [
            "/usr/local/lib/python3.6/dist-packages/sklearn/externals/six.py:31: FutureWarning: The module is deprecated in version 0.21 and will be removed in version 0.23 since we've dropped support for Python 2.7. Please rely on the official version of six (https://pypi.org/project/six/).\n",
            "  \"(https://pypi.org/project/six/).\", FutureWarning)\n",
            "/usr/local/lib/python3.6/dist-packages/sklearn/utils/deprecation.py:144: FutureWarning: The sklearn.neighbors.base module is  deprecated in version 0.22 and will be removed in version 0.24. The corresponding classes / functions should instead be imported from sklearn.neighbors. Anything that cannot be imported from sklearn.neighbors is now part of the private API.\n",
            "  warnings.warn(message, FutureWarning)\n"
          ],
          "name": "stderr"
        }
      ]
    },
    {
      "cell_type": "code",
      "metadata": {
        "id": "TfbR80S6InuE",
        "colab_type": "code",
        "colab": {}
      },
      "source": [
        "train = pd.read_csv(\"/content/training.csv\")\n",
        "test = pd.read_csv(\"/content/testing.csv\")\n",
        "test_proportions = pd.read_csv(\"/content/test_proportions.csv\")\n",
        "additional_train = pd.read_csv(\"/content/additional_training.csv\")"
      ],
      "execution_count": 0,
      "outputs": []
    },
    {
      "cell_type": "code",
      "metadata": {
        "id": "R_Pq2_xyPtEC",
        "colab_type": "code",
        "outputId": "85cff3b7-d3a1-4a90-c53e-24e36f1990a2",
        "cellView": "form",
        "colab": {
          "base_uri": "https://localhost:8080/",
          "height": 357
        }
      },
      "source": [
        "#@title Example Split on Training Data.\n",
        "\n",
        "# Train on train, test on train[split].\n",
        "\n",
        "split_spot = 40\n",
        "\n",
        "train_split_train = train.iloc[:split_spot, 1:-1].to_numpy(copy=True)\n",
        "train_pred_train = train.iloc[:split_spot, -1].to_numpy(copy=True)\n",
        "print(\"Length match: {}\".format(len(train_split_train) == len(train_pred_train)))\n",
        "\n",
        "train_split_test = train.iloc[split_spot: ,1:-1].to_numpy(copy=True)\n",
        "train_pred_test = train.iloc[split_spot: ,-1].to_numpy(copy=True)\n",
        "\n",
        "X = train_split_train\n",
        "y = train_pred_train \n",
        "\n",
        "clf = MLPClassifier(solver=\"lbfgs\", alpha=1e-5, random_state=1)\n",
        "\n",
        "clf.fit(X,y)\n",
        "\n",
        "predictions = clf.predict(train_split_test)\n",
        "\n",
        "accuracy = 0 \n",
        "\n",
        "for i, (p1,p2) in enumerate(zip(predictions, train_pred_test)):\n",
        "  if p1 == p2:\n",
        "    accuracy += 1\n",
        "\n",
        "print(\"Proportional Accuracy: {}\".format(accuracy / len(predictions)))\n",
        "\n",
        "\n",
        "conf = confusion_matrix(train_pred_test, predictions)\n",
        "df = pd.DataFrame(conf)\n",
        "print(df)\n",
        "\n",
        "plt.imshow(conf, cmap=\"binary\", interpolation=\"None\")\n",
        "#plt.axis(\"off\")\n",
        "plt.show()"
      ],
      "execution_count": 19,
      "outputs": [
        {
          "output_type": "stream",
          "text": [
            "Length match: True\n",
            "Proportional Accuracy: 0.8309178743961353\n",
            "   0    1\n",
            "0  1   31\n",
            "1  4  171\n"
          ],
          "name": "stdout"
        },
        {
          "output_type": "display_data",
          "data": {
            "image/png": "[encoded data removed]",
            "text/plain": [
              "<Figure size 432x288 with 1 Axes>"
            ]
          },
          "metadata": {
            "tags": [],
            "needs_background": "light"
          }
        }
      ]
    },
    {
      "cell_type": "code",
      "metadata": {
        "id": "3uux4dLMmrM_",
        "colab_type": "code",
        "colab": {
          "base_uri": "https://localhost:8080/",
          "height": 105
        },
        "cellView": "form",
        "outputId": "02869ee6-3200-4b04-af8c-c158671ad7f1"
      },
      "source": [
        "#@title ADDITIONAL DATA MISSING IMPUTE\n",
        "\n",
        "#Just in the mean-time ie. to be REMOVED....\n",
        "additional_train = pd.read_csv(\"/content/additional_training.csv\")\n",
        "import time\n",
        "\n",
        "additional_obsv = additional_train.iloc[:,-1]\n",
        "# Fastest way.\n",
        "null_add = additional_train.isnull().to_numpy().any()\n",
        "null_y = additional_obsv.isnull().to_numpy().any()\n",
        "print(\"NaN values across all columns: {}\".format(null_add))\n",
        "print(\"NaN values in predictions column: {}\\n\".format(null_y))\n",
        "\n",
        "# Possible imputer strategies to test out.\n",
        "strats = [\"mean\",\"median\",\"most_frequent\",\"constant\"]\n",
        "# Create Simple Imputer.\n",
        "imp = SimpleImputer(missing_values=np.nan, strategy=\"mean\")\n",
        "# fit_transform() additional_data.\n",
        "holder = imp.fit_transform(additional_train)\n",
        "\n",
        "# Hehehehe\n",
        "print(\"Transforming data\")\n",
        "time.sleep(1) # hehehehe\n",
        "\n",
        "# Convert back to DF and overwrite.\n",
        "additional_train = pd.DataFrame(holder)\n",
        "\n",
        "# Re-check for NaN values.\n",
        "null_add = additional_train.isnull().to_numpy().any()\n",
        "print(\"NaN values across all columns now: {}\".format(null_add))\n",
        "\n",
        "# Rename additional train columns to match og. train.\n",
        "additional_train = pd.DataFrame(data=additional_train.values, columns=train.columns)\n",
        "\n",
        "# var to hold complete dataframe with missing values replaced using set strategy.\n",
        "train_total = pd.concat([train,additional_train])\n",
        "\n",
        "train_total_observed = train_total.iloc[:,-1] ####TOTAL DATA PREDICTIONS.\n",
        "train_total_y = train_total_observed.to_numpy()"
      ],
      "execution_count": 20,
      "outputs": [
        {
          "output_type": "stream",
          "text": [
            "NaN values across all columns: True\n",
            "NaN values in predictions column: False\n",
            "\n",
            "Transforming data\n",
            "NaN values across all columns now: False\n"
          ],
          "name": "stdout"
        }
      ]
    },
    {
      "cell_type": "code",
      "metadata": {
        "id": "D5kFC5_KxhZy",
        "colab_type": "code",
        "cellView": "form",
        "colab": {}
      },
      "source": [
        "#@title GRAPH METHODS { vertical-output: true }\n",
        "\n",
        "# Graph-rep. Functions.\n",
        "\n",
        "# Plot bar.\n",
        "def plotbargraph(trn, tst_prop, bars=True):\n",
        "\n",
        "  # Data representation:\n",
        "\n",
        "  # Get all observed predictions 0 / 1.\n",
        "  trn_observed = trn.iloc[:, -1]\n",
        "  # .values()\n",
        "  y_ = trn_observed.to_numpy(copy=True)\n",
        "\n",
        "  # Training ---\n",
        "  trn_c0 = np.count_nonzero(y_ == 0)\n",
        "  trn_c1 = np.count_nonzero(y_ == 1)\n",
        "\n",
        "  autolabel_vals = [trn_c0,trn_c1] # Hold vals for rect labels.\n",
        "\n",
        "  trn_c0 = round((trn_c0/len(y_)*100),2)\n",
        "  trn_c1 = round((trn_c1/len(y_)*100),2)\n",
        "  trn_bar = [trn_c0,trn_c1] # Hold vals for bar plot.\n",
        "\n",
        "\n",
        "  # Testing ---\n",
        "  tst_c0 = float(test_proportions.iloc[0,0][:6])\n",
        "\n",
        "  # Hold vals for rect labels.\n",
        "  autolabel_vals.append(tst_c0*len(test))\n",
        "  autolabel_vals.append((1-tst_c0)*len(test))\n",
        "\n",
        "  tst_c0 = round((tst_c0*100),2)\n",
        "  tst_c1 = 100 - tst_c0\n",
        "  tst_bar = [tst_c0,tst_c1] # Hold vals for bar plot.\n",
        "\n",
        "\n",
        "  print(\"Proportions\")\n",
        "  print(\"Training data:  Class0: {}%   Class1: {}%\".format(trn_c0,trn_c1) +\n",
        "        \"   Proportion: {} : 1\".format(round((trn_c0/trn_c1),4)))\n",
        "  print(\"Testing data:   Class0: {}%   Class1: {}%\".format(tst_c0,tst_c1) + \n",
        "        \"   Proportion: {} : 1\".format(round((tst_c0/tst_c1),4)))\n",
        "\n",
        "  if bars:\n",
        "    # Bar Plot.\n",
        "    labels = [\"Class0 - Memorable\", \"Class1 - Non Memorable\"]\n",
        "    x = np.arange(len(labels))\n",
        "    width = 0.25\n",
        "\n",
        "    fig, ax = plt.subplots()\n",
        "    rects1 = ax.bar(x - width/2, trn_bar, width, label='Train')\n",
        "    rects2 = ax.bar(x + width/2, tst_bar, width, label='Test')\n",
        "\n",
        "    ax.set_ylabel(\"PERCENTAGE PROPORTION\")\n",
        "    ax.set_ylim([0,100])\n",
        "    #ax.axes.get_yaxis().set_visible(False)\n",
        "    ax.set_xticks(x)\n",
        "    ax.set_xticklabels(labels)\n",
        "    ax.legend()\n",
        "\n",
        "\n",
        "    xyz = list()\n",
        "    ############\n",
        "    '''https://matplotlib.org/3.1.1/gallery/lines_bars_and_markers/barchart.html'''\n",
        "    def autolabel(rects):\n",
        "      for i, rect in enumerate(rects):\n",
        "        height = rect.get_height()\n",
        "        xy=(rect.get_x() + rect.get_width() / 2, height)\n",
        "        xyz.append(xy)\n",
        "      for i, (coord, val) in enumerate(zip(xyz,autolabel_vals)):\n",
        "        ax.annotate(s=round(val),\n",
        "                    xy=coord,\n",
        "                    xytext=(0, 3),  # 3 points vertical offset\n",
        "                    textcoords=\"offset points\",\n",
        "                    ha='center', va='bottom')\n",
        "    autolabel(rects1)\n",
        "    autolabel(rects2)\n",
        "    ############\n",
        "\n",
        "\n",
        "    fig.tight_layout()\n",
        "\n",
        "    plt.show()\n",
        "\n",
        "\n",
        "# Plot scatter.\n",
        "def plot_2d_space(X, y, label='Classes'):   \n",
        "    colors = ['#1F77B4', '#FF7F0E']\n",
        "    markers = ['o', 'o']\n",
        "    for l, c, m in zip(np.unique(y), colors, markers):\n",
        "        plt.scatter(\n",
        "            X[y==l, 0],\n",
        "            X[y==l, 1],\n",
        "            c=c, label=l, marker=m\n",
        "        )\n",
        "    plt.title(label)\n",
        "    plt.legend(loc='upper right')\n",
        "    plt.show()"
      ],
      "execution_count": 0,
      "outputs": []
    },
    {
      "cell_type": "code",
      "metadata": {
        "id": "Pf4GE58-IM10",
        "colab_type": "code",
        "cellView": "form",
        "colab": {}
      },
      "source": [
        "#@title SET UP\n",
        "# START--------------------------------------------------------------------------------------------------\n",
        "# -------------------------------------------------------------------------------------------------------\n",
        "# -------------------------------------------------------------------------------------------------------\n",
        "train = pd.read_csv(\"/content/training.csv\")\n",
        "# ------ Set up observed predictions.\n",
        "\n",
        "# Get all observed predictions 0 / 1.\n",
        "train_observed = train.iloc[:, -1]\n",
        "# .values()\n",
        "y = train_observed.to_numpy(copy=True) \n",
        "# Throughout this notebook classifiers etc are fed numpy arrays. This was due to\n",
        "# certain trial classifiers prefering np array to pd etc DataFrames.\n",
        "\n",
        "# Random seed.\n",
        "seed = 260498"
      ],
      "execution_count": 0,
      "outputs": []
    },
    {
      "cell_type": "code",
      "metadata": {
        "id": "XQAyI44v9JjM",
        "colab_type": "code",
        "outputId": "19a8b8ff-dbca-4d76-f366-b50de8a264e6",
        "cellView": "form",
        "colab": {
          "base_uri": "https://localhost:8080/",
          "height": 632
        }
      },
      "source": [
        "#@title PLOT ORIGINAL DISTRIBUTION\n",
        "# BAR\n",
        "plotbargraph(train, test_proportions)\n",
        "\n",
        "# PCA -----\n",
        "pca = PCA(n_components=2)\n",
        "\n",
        "hold = train.iloc[:,1:-1]\n",
        "\n",
        "X_pca = pca.fit_transform(hold)\n",
        "\n",
        "plot_2d_space(X_pca, y)\n",
        "\n",
        "len(X_pca)"
      ],
      "execution_count": 23,
      "outputs": [
        {
          "output_type": "stream",
          "text": [
            "Proportions\n",
            "Training data:  Class0: 15.38%   Class1: 84.62%   Proportion: 0.1818 : 1\n",
            "Testing data:   Class0: 61.52%   Class1: 38.48%   Proportion: 1.5988 : 1\n"
          ],
          "name": "stdout"
        },
        {
          "output_type": "display_data",
          "data": {
            "image/png": "[encoded data removed]",
            "text/plain": [
              "<Figure size 432x288 with 1 Axes>"
            ]
          },
          "metadata": {
            "tags": [],
            "needs_background": "light"
          }
        },
        {
          "output_type": "display_data",
          "data": {
            "image/png": "[encoded data removed]",
            "text/plain": [
              "<Figure size 432x288 with 1 Axes>"
            ]
          },
          "metadata": {
            "tags": [],
            "needs_background": "light"
          }
        },
        {
          "output_type": "execute_result",
          "data": {
            "text/plain": [
              "247"
            ]
          },
          "metadata": {
            "tags": []
          },
          "execution_count": 23
        }
      ]
    },
    {
      "cell_type": "code",
      "metadata": {
        "id": "XoPlHBq3sxrF",
        "colab_type": "code",
        "colab": {
          "base_uri": "https://localhost:8080/",
          "height": 632
        },
        "cellView": "form",
        "outputId": "5d288732-e214-4727-ffa5-369ea4d9e758"
      },
      "source": [
        "#@title PLOT ADDITIONAL DATA DISTRIBUTION\n",
        "\n",
        "# BAR\n",
        "plotbargraph(additional_train, test_proportions)\n",
        "\n",
        "# PCA -----\n",
        "pca = PCA(n_components=2)\n",
        "\n",
        "hold = additional_train.iloc[:,1:-1]\n",
        "\n",
        "X_pca = pca.fit_transform(hold)\n",
        "\n",
        "plot_2d_space(X_pca, additional_obsv)\n",
        "\n",
        "len(X_pca)"
      ],
      "execution_count": 24,
      "outputs": [
        {
          "output_type": "stream",
          "text": [
            "Proportions\n",
            "Training data:  Class0: 12.98%   Class1: 87.02%   Proportion: 0.1492 : 1\n",
            "Testing data:   Class0: 61.52%   Class1: 38.48%   Proportion: 1.5988 : 1\n"
          ],
          "name": "stdout"
        },
        {
          "output_type": "display_data",
          "data": {
            "image/png": "[encoded data removed]",
            "text/plain": [
              "<Figure size 432x288 with 1 Axes>"
            ]
          },
          "metadata": {
            "tags": [],
            "needs_background": "light"
          }
        },
        {
          "output_type": "display_data",
          "data": {
            "image/png": "[encoded data removed]",
            "text/plain": [
              "<Figure size 432x288 with 1 Axes>"
            ]
          },
          "metadata": {
            "tags": [],
            "needs_background": "light"
          }
        },
        {
          "output_type": "execute_result",
          "data": {
            "text/plain": [
              "2219"
            ]
          },
          "metadata": {
            "tags": []
          },
          "execution_count": 24
        }
      ]
    },
    {
      "cell_type": "code",
      "metadata": {
        "id": "hGPBm1VRs_28",
        "colab_type": "code",
        "colab": {
          "base_uri": "https://localhost:8080/",
          "height": 632
        },
        "cellView": "form",
        "outputId": "b727747b-5343-413f-c3dc-b195a6989fea"
      },
      "source": [
        "#@title PLOT TOTAL DATA DISTRIBUTION\n",
        "\n",
        "# BAR\n",
        "plotbargraph(train_total, test_proportions)\n",
        "\n",
        "# PCA -----\n",
        "pca = PCA(n_components=2)\n",
        "\n",
        "hold = train_total.iloc[:,1:-1]\n",
        "\n",
        "X_pca = pca.fit_transform(hold)\n",
        "\n",
        "plot_2d_space(X_pca, train_total_y)\n",
        "\n",
        "len(X_pca)"
      ],
      "execution_count": 25,
      "outputs": [
        {
          "output_type": "stream",
          "text": [
            "Proportions\n",
            "Training data:  Class0: 13.22%   Class1: 86.78%   Proportion: 0.1523 : 1\n",
            "Testing data:   Class0: 61.52%   Class1: 38.48%   Proportion: 1.5988 : 1\n"
          ],
          "name": "stdout"
        },
        {
          "output_type": "display_data",
          "data": {
            "image/png": "[encoded data removed]",
            "text/plain": [
              "<Figure size 432x288 with 1 Axes>"
            ]
          },
          "metadata": {
            "tags": [],
            "needs_background": "light"
          }
        },
        {
          "output_type": "display_data",
          "data": {
            "image/png": "[encoded data removed]",
            "text/plain": [
              "<Figure size 432x288 with 1 Axes>"
            ]
          },
          "metadata": {
            "tags": [],
            "needs_background": "light"
          }
        },
        {
          "output_type": "execute_result",
          "data": {
            "text/plain": [
              "2466"
            ]
          },
          "metadata": {
            "tags": []
          },
          "execution_count": 25
        }
      ]
    },
    {
      "cell_type": "code",
      "metadata": {
        "id": "v0DmupzAPw13",
        "colab_type": "code",
        "cellView": "form",
        "outputId": "c4411a72-f5d3-4878-c615-de85c1a60157",
        "colab": {
          "base_uri": "https://localhost:8080/",
          "height": 34
        }
      },
      "source": [
        "#@title SKLEARN RESAMPLE (OVER-SAMPLE)\n",
        "# RESAMPLING.                             # Curr score - 0.68092\n",
        "# ----------- Up sampling minority class.\n",
        "\n",
        "#train = pd.read_csv(\"/content/training.csv\")\n",
        "\n",
        "# Minority class.\n",
        "c = 0 \n",
        "minority = train.loc[train[\"prediction\"] == c]\n",
        "\n",
        "# Num. of samples equal across classes.\n",
        "num = len(train) - 2 * len(minority)\n",
        "# Increase to match test data ratio if wanted.\n",
        "num = round(num * 1.7)\n",
        "\n",
        "print(\"{} rows added to training data with class{} scores.\".format(num, c))\n",
        "\n",
        "class0_upsampled = resample(minority,\n",
        "                           replace=True,\n",
        "                           n_samples=num,\n",
        "                           random_state=seed\n",
        "                           )\n",
        "\n",
        "# Concat new class0 sample and original train.\n",
        "train = pd.concat([train, class0_upsampled])\n",
        "\n",
        "# Shuffle. \n",
        "train = shuffle(train, random_state=seed)\n",
        "\n",
        "\n",
        "# Fix INDEX OF TRAIN DATA.\n",
        "train = train.reset_index(drop=True).reset_index().drop(columns=[\"ID\"])\n",
        "train.columns.values[0] = \"ID\"\n",
        "train[\"ID\"] += 1\n",
        "\n",
        "\n",
        "# Update target array.\n",
        "# Get all observed predictions 0 / 1.\n",
        "train_observed = train.iloc[:, -1]\n",
        "# .values()\n",
        "y = train_observed.to_numpy(copy=True)"
      ],
      "execution_count": 9,
      "outputs": [
        {
          "output_type": "stream",
          "text": [
            "291 rows added to training data with class0 scores.\n"
          ],
          "name": "stdout"
        }
      ]
    },
    {
      "cell_type": "code",
      "metadata": {
        "id": "8WDl1yMgy9Av",
        "colab_type": "code",
        "colab": {
          "base_uri": "https://localhost:8080/",
          "height": 34
        },
        "cellView": "form",
        "outputId": "45add20a-e1b7-49ac-b8cc-3816162f550e"
      },
      "source": [
        "#@title SKLEARN RESAMPLE (OVER-SAMPLE) USING TOTAL DATA\n",
        "# RESAMPLING.                             \n",
        "# ----------- Up sampling minority class.\n",
        "\n",
        "#train = pd.read_csv(\"/content/training.csv\")\n",
        "\n",
        "# Minority class.\n",
        "c = 0 \n",
        "minority = train_total.loc[train_total[\"prediction\"] == c]\n",
        "\n",
        "# Num. of samples equal across classes.\n",
        "num = len(train_total) - 2 * len(minority)\n",
        "# Increase to match test data ratio if wanted.\n",
        "num = round(num * 1.7)\n",
        "\n",
        "print(\"{} rows added to training data with class{} scores.\".format(num, c))\n",
        "\n",
        "class0_upsampled = resample(minority,\n",
        "                           replace=True,\n",
        "                           n_samples=num,\n",
        "                           random_state=seed\n",
        "                           )\n",
        "\n",
        "# Concat new class0 sample and original train.\n",
        "train_total = pd.concat([train_total, class0_upsampled])\n",
        "\n",
        "# Shuffle. \n",
        "train_total = shuffle(train_total, random_state=seed)\n",
        "\n",
        "\n",
        "# Fix INDEX OF TRAIN_total DATA.\n",
        "train_total = train_total.reset_index(drop=True).reset_index().drop(columns=[\"ID\"])\n",
        "train_total.columns.values[0] = \"ID\"\n",
        "train_total[\"ID\"] += 1\n",
        "\n",
        "\n",
        "# Update target array.\n",
        "# Get all observed predictions 0 / 1.\n",
        "train_total_observed = train_total.iloc[:, -1]\n",
        "# .values()\n",
        "train_total_y = train_total_observed.to_numpy(copy=True)"
      ],
      "execution_count": 10,
      "outputs": [
        {
          "output_type": "stream",
          "text": [
            "3084 rows added to training data with class0 scores.\n"
          ],
          "name": "stdout"
        }
      ]
    },
    {
      "cell_type": "code",
      "metadata": {
        "id": "DeMzTdpd9kJp",
        "colab_type": "code",
        "colab": {
          "base_uri": "https://localhost:8080/",
          "height": 34
        },
        "cellView": "form",
        "outputId": "f1e4b969-1b69-4266-d66c-a98842a3dc10"
      },
      "source": [
        "  #@title SKLEARN RESAMPLE (OVER-SAMPLE) FUNCTION\n",
        "def resample_up(trn_total):\n",
        "  # RESAMPLING.                             \n",
        "  # ----------- Up sampling minority class.\n",
        "\n",
        "  #train = pd.read_csv(\"/content/training.csv\")\n",
        "\n",
        "  # Minority class.\n",
        "  c = 0 \n",
        "  minority = trn_total.loc[trn_total[\"prediction\"] == c]\n",
        "\n",
        "  # Num. of samples equal across classes.\n",
        "  num = len(trn_total) - 2 * len(minority)\n",
        "  # Increase to match test data ratio if wanted.\n",
        "  num = round(num * 1.7)\n",
        "\n",
        "  print(\"{} rows added to trning data with class{} scores.\".format(num, c))\n",
        "\n",
        "  class0_upsampled = resample(minority,\n",
        "                            replace=True,\n",
        "                            n_samples=num,\n",
        "                            random_state=seed\n",
        "                            )\n",
        "\n",
        "  # Concat new class0 sample and original trn.\n",
        "  trn_total = pd.concat([trn_total, class0_upsampled])\n",
        "\n",
        "  # Shuffle. \n",
        "  trn_total = shuffle(trn_total, random_state=seed)\n",
        "\n",
        "\n",
        "  # Fix INDEX OF trn_total DATA.\n",
        "  trn_total = trn_total.reset_index(drop=True).reset_index().drop(columns=[\"ID\"])\n",
        "  trn_total.columns.values[0] = \"ID\"\n",
        "  trn_total[\"ID\"] += 1\n",
        "\n",
        "\n",
        "  # Update target array.\n",
        "  # Get all observed predictions 0 / 1.\n",
        "  trn_total_observed = trn_total.iloc[:, -1]\n",
        "  # .values()\n",
        "  trn_total_y = trn_total_observed.to_numpy(copy=True)\n",
        "\n",
        "  return trn_total, trn_total_observed, trn_total_y\n",
        "\n",
        "train_total, train_total_observed, train_total_y = resample_up(train_total)"
      ],
      "execution_count": 26,
      "outputs": [
        {
          "output_type": "stream",
          "text": [
            "3084 rows added to trning data with class0 scores.\n"
          ],
          "name": "stdout"
        }
      ]
    },
    {
      "cell_type": "code",
      "metadata": {
        "id": "M2L32aepGS9g",
        "colab_type": "code",
        "outputId": "6545aeb0-28aa-4d0c-b7f3-509080cd4be1",
        "cellView": "form",
        "colab": {
          "base_uri": "https://localhost:8080/",
          "height": 632
        }
      },
      "source": [
        "#@title PLOT RESAMPLED DISTRIBUTION\n",
        "# BAR\n",
        "plotbargraph(train_total, test_proportions)\n",
        "\n",
        "# PCA\n",
        "pca = PCA(n_components=2)\n",
        "\n",
        "hold = train_total.iloc[:,1:-1]\n",
        "\n",
        "X_pca = pca.fit_transform(hold)\n",
        "\n",
        "plot_2d_space(X_pca, train_total_y)\n",
        "\n",
        "len(X_pca)"
      ],
      "execution_count": 27,
      "outputs": [
        {
          "output_type": "stream",
          "text": [
            "Proportions\n",
            "Training data:  Class0: 61.44%   Class1: 38.56%   Proportion: 1.5934 : 1\n",
            "Testing data:   Class0: 61.52%   Class1: 38.48%   Proportion: 1.5988 : 1\n"
          ],
          "name": "stdout"
        },
        {
          "output_type": "display_data",
          "data": {
            "image/png": "[encoded data removed]",
            "text/plain": [
              "<Figure size 432x288 with 1 Axes>"
            ]
          },
          "metadata": {
            "tags": [],
            "needs_background": "light"
          }
        },
        {
          "output_type": "display_data",
          "data": {
            "image/png": "[encoded data removed]",
            "text/plain": [
              "<Figure size 432x288 with 1 Axes>"
            ]
          },
          "metadata": {
            "tags": [],
            "needs_background": "light"
          }
        },
        {
          "output_type": "execute_result",
          "data": {
            "text/plain": [
              "5550"
            ]
          },
          "metadata": {
            "tags": []
          },
          "execution_count": 27
        }
      ]
    },
    {
      "cell_type": "code",
      "metadata": {
        "id": "5K3TIGoP0Bj4",
        "colab_type": "code",
        "colab": {},
        "cellView": "form"
      },
      "source": [
        "#@title FEATURE SCALING - MANUAL STANDARDIZATION - TRAINTOTAL - (full pd.DF)\n",
        "\n",
        "# ------ Set up training and testing data.\n",
        "\n",
        "# Split standardizer by hand.\n",
        "# Training data.\n",
        "df_cnn = train_total.iloc[:, 1:-513]\n",
        "df_gist = train_total.iloc[:, -513:-1]\n",
        "\n",
        "X_cnn = df_cnn.to_numpy(copy=True)\n",
        "X_gist = df_gist.to_numpy(copy=True)\n",
        "\n",
        "# Testing data.\n",
        "df_test_cnn = test.iloc[:,1:-512]\n",
        "df_test_gist = test.iloc[:,-512:]\n",
        "\n",
        "test_values_cnn = df_test_cnn.to_numpy(copy=True)\n",
        "test_values_gist = df_test_gist.to_numpy(copy=True)\n",
        "\n",
        "\n",
        "# Set scale method.\n",
        "scale_setting = 1\n",
        "\n",
        "if scale_setting == 0:\n",
        "  # Standardize training data.\n",
        "  scaler = MinMaxScaler()\n",
        "  X_cnn = scaler.fit_transform(X_cnn)\n",
        "  test_values_cnn = scaler.transform(test_values_cnn)\n",
        "\n",
        "  # Standardize training data.\n",
        "  scaler = MinMaxScaler()\n",
        "  X_gist = scaler.fit_transform(X_gist)\n",
        "  test_values_gist = scaler.transform(test_values_gist)\n",
        "\n",
        "elif scale_setting == 1:\n",
        "  # Training scaling.\n",
        "  mean = X_cnn.mean()\n",
        "  std = X_cnn.std()\n",
        "\n",
        "  X_cnn = (X_cnn - mean) / std\n",
        "  test_values_cnn = (test_values_cnn - mean) / std\n",
        "\n",
        "  # Testing scaling.\n",
        "  mean = X_gist.mean()\n",
        "  std = X_gist.std()\n",
        "\n",
        "  X_gist = (X_gist - mean) / std\n",
        "  test_values_gist = (test_values_gist - mean) / std\n",
        "\n",
        "\n",
        "#Create final np arrays for training/test.\n",
        "X_standardized = np.concatenate((X_cnn,X_gist),axis=1)\n",
        "test_data_standardized = np.concatenate((test_values_cnn,test_values_gist),axis=1)\n",
        "\n",
        "# Update TRAIN WITH NEW VALUES\n",
        "reshaped_0 = pd.DataFrame(X_standardized).reset_index()\n",
        "train_total = pd.concat([reshaped_0,train_total_observed], axis=1) "
      ],
      "execution_count": 0,
      "outputs": []
    },
    {
      "cell_type": "code",
      "metadata": {
        "id": "M4ix2rA15YyY",
        "colab_type": "code",
        "cellView": "form",
        "colab": {}
      },
      "source": [
        "#@title FEATURE SCALING - MANUAL STANDARDIZATION - (full pd.DF)\n",
        "\n",
        "# ------ Set up training and testing data.\n",
        "\n",
        "# Split standardizer by hand.\n",
        "# Training data.\n",
        "df_cnn = train.iloc[:, 1:-513]\n",
        "df_gist = train.iloc[:, -513:-1]\n",
        "\n",
        "X_cnn = df_cnn.to_numpy(copy=True)\n",
        "X_gist = df_gist.to_numpy(copy=True)\n",
        "\n",
        "# Testing data.\n",
        "df_test_cnn = test.iloc[:,1:-512]\n",
        "df_test_gist = test.iloc[:,-512:]\n",
        "\n",
        "test_values_cnn = df_test_cnn.to_numpy(copy=True)\n",
        "test_values_gist = df_test_gist.to_numpy(copy=True)\n",
        "\n",
        "\n",
        "# Set scale method.\n",
        "scale_setting = 1\n",
        "\n",
        "if scale_setting == 0:\n",
        "  # Standardize training data.\n",
        "  scaler = MinMaxScaler()\n",
        "  X_cnn = scaler.fit_transform(X_cnn)\n",
        "  test_values_cnn = scaler.transform(test_values_cnn)\n",
        "\n",
        "  # Standardize training data.\n",
        "  scaler = MinMaxScaler()\n",
        "  X_gist = scaler.fit_transform(X_gist)\n",
        "  test_values_gist = scaler.transform(test_values_gist)\n",
        "\n",
        "elif scale_setting == 1:\n",
        "  # Training scaling.\n",
        "  mean = X_cnn.mean()\n",
        "  std = X_cnn.std()\n",
        "\n",
        "  X_cnn = (X_cnn - mean) / std\n",
        "  test_values_cnn = (test_values_cnn - mean) / std\n",
        "\n",
        "  # Testing scaling.\n",
        "  mean = X_gist.mean()\n",
        "  std = X_gist.std()\n",
        "\n",
        "  X_gist = (X_gist - mean) / std\n",
        "  test_values_gist = (test_values_gist - mean) / std\n",
        "\n",
        "\n",
        "#Create final np arrays for training/test.\n",
        "X_standardized = np.concatenate((X_cnn,X_gist),axis=1)\n",
        "test_data_standardized = np.concatenate((test_values_cnn,test_values_gist),axis=1)\n",
        "\n",
        "# Update TRAIN WITH NEW VALUES\n",
        "reshaped_0 = pd.DataFrame(X_standardized).reset_index()\n",
        "train = pd.concat([reshaped_0,train_observed], axis=1) "
      ],
      "execution_count": 0,
      "outputs": []
    },
    {
      "cell_type": "code",
      "metadata": {
        "id": "h3IA-Abc4K_A",
        "colab_type": "code",
        "colab": {},
        "cellView": "both"
      },
      "source": [
        "#@title SETUP PARAMETERS FOR CLASSIFIER(S)\n",
        "\n",
        "# Params:\n",
        "\n",
        "X = X_standardized\n",
        "\n",
        "test_data = test_data_standardized\n",
        "\n",
        "\n",
        "y = train_total_y\n",
        "# X = train.iloc[:,1:-1]\n",
        "# test_data = test_data_standardized\n",
        "\n",
        "\n",
        "hddn_lyrs = (100,100,100,100)\n",
        "mx_itr = 100\n",
        "\n",
        "# No diff so far.\n",
        "lr = { \"c\" : 'constant', \"i\": 'invscaling', \"a\":'adaptive'}"
      ],
      "execution_count": 0,
      "outputs": []
    },
    {
      "cell_type": "code",
      "metadata": {
        "id": "RmNN34T1EHCn",
        "colab_type": "code",
        "cellView": "form",
        "colab": {}
      },
      "source": [
        "#@title ROUGH ESTIMATOR FUNCTION\n",
        "# Calculate extremely rough \"accuracy\" from proportion of data correct.\n",
        "def estimate(preds_final):\n",
        "  class_0 = 0\n",
        "  class_1 = 0\n",
        "\n",
        "  for val in preds_final:\n",
        "    if val == 0:\n",
        "      class_0 += 1\n",
        "    elif val == 1:\n",
        "      class_1 += 1\n",
        "\n",
        "  total = len(preds_final)\n",
        "\n",
        "  pred_0 = round((class_0 / total), 4)\n",
        "  pred_1 = round((class_1 / total), 4) \n",
        "\n",
        "  actual_0 = float(test_proportions.iloc[0,0][:6])\n",
        "  actual_1 = round((1 - actual_0),4)\n",
        "\n",
        "  dif = abs(pred_0 - actual_0)\n",
        "  percent_dif = dif / np.mean([pred_0,actual_0]) * 100\n",
        "\n",
        "  print(\"Class 0 Non memorable: \\nPredicted proportion: {} \\nActual proportion:    {}\\n\".format(pred_0,actual_0))\n",
        "  print(\"Class 1 Memorable: \\nPredicted proportion: {} \\nActual proportion:    {}\\n\".format(pred_1,actual_1))\n",
        "  print(\"Percentage difference pred_0 and actual_0 is:\\n{}%\\nDifference of:\\n{}\".format(round(percent_dif,2), round(dif,4)))"
      ],
      "execution_count": 0,
      "outputs": []
    },
    {
      "cell_type": "code",
      "metadata": {
        "id": "ncneZVmYOszZ",
        "colab_type": "code",
        "colab": {
          "base_uri": "https://localhost:8080/",
          "height": 1000
        },
        "outputId": "8df73949-b06c-4fbf-82e0-2bf091687a86"
      },
      "source": [
        "slvr = [\"adam\",\"lbfgs\",\"sgd\"]\n",
        "activations = ['identity', 'logistic', 'tanh', 'relu']\n",
        "\n",
        "for solve in slvr:\n",
        "  for act in activations:\n",
        "    print(\"'{}' solver\".format(solve))\n",
        "    print(\"'{}' activation function\".format(act))\n",
        "    # MLP Classifier.\n",
        "    clf = MLPClassifier(solver=solve,\n",
        "                        activation=act,\n",
        "                        hidden_layer_sizes=hddn_lyrs,\n",
        "                        max_iter=mx_itr,\n",
        "                        alpha=1e-5,\n",
        "                        random_state=1,\n",
        "                        learning_rate=lr[\"c\"]\n",
        "                        )\n",
        "\n",
        "    clf.fit(X,y)\n",
        "\n",
        "    # Predictions.\n",
        "    predictions_final = clf.predict(test_data)\n",
        "\n",
        "    estimate(predictions_final)\n",
        "    print(\"\\n\\n\")\n",
        "\n",
        "# Curr score - 0.68092 - \"adam\""
      ],
      "execution_count": 15,
      "outputs": [
        {
          "output_type": "stream",
          "text": [
            "'adam' solver\n",
            "'identity' activation function\n"
          ],
          "name": "stdout"
        },
        {
          "output_type": "stream",
          "text": [
            "/usr/local/lib/python3.6/dist-packages/sklearn/neural_network/_multilayer_perceptron.py:573: UserWarning: Training interrupted by user.\n",
            "  warnings.warn(\"Training interrupted by user.\")\n"
          ],
          "name": "stderr"
        },
        {
          "output_type": "stream",
          "text": [
            "Class 0 Non memorable: \n",
            "Predicted proportion: 0.5428 \n",
            "Actual proportion:    0.6152\n",
            "\n",
            "Class 1 Memorable: \n",
            "Predicted proportion: 0.4572 \n",
            "Actual proportion:    0.3848\n",
            "\n",
            "Percentage difference pred_0 and actual_0 is:\n",
            "12.5%\n",
            "Difference of:\n",
            "0.0724\n",
            "\n",
            "\n",
            "\n",
            "'adam' solver\n",
            "'logistic' activation function\n",
            "Class 0 Non memorable: \n",
            "Predicted proportion: 0.5873 \n",
            "Actual proportion:    0.6152\n",
            "\n",
            "Class 1 Memorable: \n",
            "Predicted proportion: 0.4127 \n",
            "Actual proportion:    0.3848\n",
            "\n",
            "Percentage difference pred_0 and actual_0 is:\n",
            "4.64%\n",
            "Difference of:\n",
            "0.0279\n",
            "\n",
            "\n",
            "\n",
            "'adam' solver\n",
            "'tanh' activation function\n",
            "Class 0 Non memorable: \n",
            "Predicted proportion: 0.3914 \n",
            "Actual proportion:    0.6152\n",
            "\n",
            "Class 1 Memorable: \n",
            "Predicted proportion: 0.6086 \n",
            "Actual proportion:    0.3848\n",
            "\n",
            "Percentage difference pred_0 and actual_0 is:\n",
            "44.47%\n",
            "Difference of:\n",
            "0.2238\n",
            "\n",
            "\n",
            "\n",
            "'adam' solver\n",
            "'relu' activation function\n",
            "Class 0 Non memorable: \n",
            "Predicted proportion: 0.4889 \n",
            "Actual proportion:    0.6152\n",
            "\n",
            "Class 1 Memorable: \n",
            "Predicted proportion: 0.5111 \n",
            "Actual proportion:    0.3848\n",
            "\n",
            "Percentage difference pred_0 and actual_0 is:\n",
            "22.88%\n",
            "Difference of:\n",
            "0.1263\n",
            "\n",
            "\n",
            "\n",
            "'lbfgs' solver\n",
            "'identity' activation function\n",
            "Class 0 Non memorable: \n",
            "Predicted proportion: 0.4234 \n",
            "Actual proportion:    0.6152\n",
            "\n",
            "Class 1 Memorable: \n",
            "Predicted proportion: 0.5766 \n",
            "Actual proportion:    0.3848\n",
            "\n",
            "Percentage difference pred_0 and actual_0 is:\n",
            "36.93%\n",
            "Difference of:\n",
            "0.1918\n",
            "\n",
            "\n",
            "\n",
            "'lbfgs' solver\n",
            "'logistic' activation function\n",
            "Class 0 Non memorable: \n",
            "Predicted proportion: 1.0 \n",
            "Actual proportion:    0.6152\n",
            "\n",
            "Class 1 Memorable: \n",
            "Predicted proportion: 0.0 \n",
            "Actual proportion:    0.3848\n",
            "\n",
            "Percentage difference pred_0 and actual_0 is:\n",
            "47.65%\n",
            "Difference of:\n",
            "0.3848\n",
            "\n",
            "\n",
            "\n",
            "'lbfgs' solver\n",
            "'tanh' activation function\n",
            "Class 0 Non memorable: \n",
            "Predicted proportion: 0.4671 \n",
            "Actual proportion:    0.6152\n",
            "\n",
            "Class 1 Memorable: \n",
            "Predicted proportion: 0.5329 \n",
            "Actual proportion:    0.3848\n",
            "\n",
            "Percentage difference pred_0 and actual_0 is:\n",
            "27.37%\n",
            "Difference of:\n",
            "0.1481\n",
            "\n",
            "\n",
            "\n",
            "'lbfgs' solver\n",
            "'relu' activation function\n",
            "Class 0 Non memorable: \n",
            "Predicted proportion: 0.5417 \n",
            "Actual proportion:    0.6152\n",
            "\n",
            "Class 1 Memorable: \n",
            "Predicted proportion: 0.4583 \n",
            "Actual proportion:    0.3848\n",
            "\n",
            "Percentage difference pred_0 and actual_0 is:\n",
            "12.71%\n",
            "Difference of:\n",
            "0.0735\n",
            "\n",
            "\n",
            "\n",
            "'sgd' solver\n",
            "'identity' activation function\n",
            "Class 0 Non memorable: \n",
            "Predicted proportion: 0.4687 \n",
            "Actual proportion:    0.6152\n",
            "\n",
            "Class 1 Memorable: \n",
            "Predicted proportion: 0.5313 \n",
            "Actual proportion:    0.3848\n",
            "\n",
            "Percentage difference pred_0 and actual_0 is:\n",
            "27.03%\n",
            "Difference of:\n",
            "0.1465\n",
            "\n",
            "\n",
            "\n",
            "'sgd' solver\n",
            "'logistic' activation function\n",
            "Class 0 Non memorable: \n",
            "Predicted proportion: 1.0 \n",
            "Actual proportion:    0.6152\n",
            "\n",
            "Class 1 Memorable: \n",
            "Predicted proportion: 0.0 \n",
            "Actual proportion:    0.3848\n",
            "\n",
            "Percentage difference pred_0 and actual_0 is:\n",
            "47.65%\n",
            "Difference of:\n",
            "0.3848\n",
            "\n",
            "\n",
            "\n",
            "'sgd' solver\n",
            "'tanh' activation function\n"
          ],
          "name": "stdout"
        },
        {
          "output_type": "stream",
          "text": [
            "/usr/local/lib/python3.6/dist-packages/sklearn/neural_network/_multilayer_perceptron.py:573: UserWarning: Training interrupted by user.\n",
            "  warnings.warn(\"Training interrupted by user.\")\n"
          ],
          "name": "stderr"
        },
        {
          "output_type": "stream",
          "text": [
            "Class 0 Non memorable: \n",
            "Predicted proportion: 0.4796 \n",
            "Actual proportion:    0.6152\n",
            "\n",
            "Class 1 Memorable: \n",
            "Predicted proportion: 0.5204 \n",
            "Actual proportion:    0.3848\n",
            "\n",
            "Percentage difference pred_0 and actual_0 is:\n",
            "24.77%\n",
            "Difference of:\n",
            "0.1356\n",
            "\n",
            "\n",
            "\n",
            "'sgd' solver\n",
            "'relu' activation function\n"
          ],
          "name": "stdout"
        },
        {
          "output_type": "stream",
          "text": [
            "/usr/local/lib/python3.6/dist-packages/sklearn/neural_network/_multilayer_perceptron.py:573: UserWarning: Training interrupted by user.\n",
            "  warnings.warn(\"Training interrupted by user.\")\n"
          ],
          "name": "stderr"
        },
        {
          "output_type": "stream",
          "text": [
            "Class 0 Non memorable: \n",
            "Predicted proportion: 0.6042 \n",
            "Actual proportion:    0.6152\n",
            "\n",
            "Class 1 Memorable: \n",
            "Predicted proportion: 0.3958 \n",
            "Actual proportion:    0.3848\n",
            "\n",
            "Percentage difference pred_0 and actual_0 is:\n",
            "1.8%\n",
            "Difference of:\n",
            "0.011\n",
            "\n",
            "\n",
            "\n"
          ],
          "name": "stdout"
        }
      ]
    },
    {
      "cell_type": "code",
      "metadata": {
        "id": "5REz-P0u5IDP",
        "colab_type": "code",
        "colab": {
          "base_uri": "https://localhost:8080/",
          "height": 230
        },
        "outputId": "7cba33c1-00bb-425a-c584-2f31f5b11b00"
      },
      "source": [
        "# MLP Classifier.\n",
        "clf = MLPClassifier(solver=\"adam\",\n",
        "                        activation=\"logistic\",\n",
        "                        hidden_layer_sizes=hddn_lyrs,\n",
        "                        max_iter=mx_itr,\n",
        "                        alpha=1e-5,\n",
        "                        random_state=1,\n",
        "                        learning_rate=lr[\"c\"]\n",
        "                        )\n",
        "\n",
        "clf.fit(X,y)\n",
        "\n",
        "# Predictions.\n",
        "predictions_final = clf.predict(test_data)\n",
        "\n",
        "estimate(predictions_final)"
      ],
      "execution_count": 32,
      "outputs": [
        {
          "output_type": "stream",
          "text": [
            "Class 0 Non memorable: \n",
            "Predicted proportion: 0.5873 \n",
            "Actual proportion:    0.6152\n",
            "\n",
            "Class 1 Memorable: \n",
            "Predicted proportion: 0.4127 \n",
            "Actual proportion:    0.3848\n",
            "\n",
            "Percentage difference pred_0 and actual_0 is:\n",
            "4.64%\n",
            "Difference of:\n",
            "0.0279\n"
          ],
          "name": "stdout"
        }
      ]
    },
    {
      "cell_type": "code",
      "metadata": {
        "id": "cYv1NDq0srpX",
        "colab_type": "code",
        "colab": {
          "base_uri": "https://localhost:8080/",
          "height": 133
        },
        "outputId": "e1241566-24b2-4a97-a6e0-23bc5e229bc2"
      },
      "source": [
        "catch this cell"
      ],
      "execution_count": 16,
      "outputs": [
        {
          "output_type": "error",
          "ename": "SyntaxError",
          "evalue": "ignored",
          "traceback": [
            "\u001b[0;36m  File \u001b[0;32m\"<ipython-input-16-52b16b2e93d1>\"\u001b[0;36m, line \u001b[0;32m1\u001b[0m\n\u001b[0;31m    catch this cell\u001b[0m\n\u001b[0m             ^\u001b[0m\n\u001b[0;31mSyntaxError\u001b[0m\u001b[0;31m:\u001b[0m invalid syntax\n"
          ]
        }
      ]
    },
    {
      "cell_type": "code",
      "metadata": {
        "id": "m1-4s0x9XkVl",
        "colab_type": "code",
        "colab": {}
      },
      "source": [
        "# Convert to INT:\n",
        "predictions_final = predictions_final.astype(\"int\")\n",
        "\n",
        "# Create and download .csv file.\n",
        "rnge = np.arange(1,len(predictions_final)+1)\n",
        "df = pd.DataFrame({\"ID\": rnge, \"prediction\": predictions_final})\n",
        "df.to_csv(\"submission1.csv\", index=False)"
      ],
      "execution_count": 0,
      "outputs": []
    },
    {
      "cell_type": "code",
      "metadata": {
        "id": "V8sdUD74cN7M",
        "colab_type": "code",
        "colab": {}
      },
      "source": [
        "#!ls"
      ],
      "execution_count": 0,
      "outputs": []
    },
    {
      "cell_type": "code",
      "metadata": {
        "id": "ac5bnBeNSniT",
        "colab_type": "code",
        "colab": {
          "base_uri": "https://localhost:8080/",
          "height": 70
        },
        "outputId": "d6a145fe-7659-4a70-902b-51de93a5d2bb"
      },
      "source": [
        "# Run to submit to Kaggle competition.\n",
        "!kaggle competitions submit brighton-a-memorable-city -f submission1.csv -m \"woo\""
      ],
      "execution_count": 35,
      "outputs": [
        {
          "output_type": "stream",
          "text": [
            "Warning: Looks like you're using an outdated API Version, please consider updating (server 1.5.6 / client 1.5.4)\n",
            "100% 81.9k/81.9k [00:03<00:00, 22.8kB/s]\n",
            "Successfully submitted to Brighton, a memorable city!"
          ],
          "name": "stdout"
        }
      ]
    },
    {
      "cell_type": "code",
      "metadata": {
        "id": "tY3sev_dYFqS",
        "colab_type": "code",
        "colab": {}
      },
      "source": [
        "files.download(\"submission1.csv\")"
      ],
      "execution_count": 0,
      "outputs": []
    },
    {
      "cell_type": "code",
      "metadata": {
        "id": "A71Smxl-30_N",
        "colab_type": "code",
        "colab": {}
      },
      "source": [
        "sub1 = pd.read_csv(\"/content/submission1.csv\")"
      ],
      "execution_count": 0,
      "outputs": []
    },
    {
      "cell_type": "code",
      "metadata": {
        "id": "kqIyvsRnhixt",
        "colab_type": "code",
        "colab": {}
      },
      "source": [
        "# 0.6152 class 0      non memorable.\n",
        "# 0.3848 class 1      memorable."
      ],
      "execution_count": 0,
      "outputs": []
    },
    {
      "cell_type": "code",
      "metadata": {
        "id": "LhcXaQK80FEL",
        "colab_type": "code",
        "cellView": "both",
        "colab": {}
      },
      "source": [
        "#@title CLASSIFIER LIST HOLDER\n",
        "from sklearn.ensemble import RandomForestClassifier\n",
        "from sklearn import svm\n",
        "from sklearn.tree import DecisionTreeClassifier\n",
        "\n",
        "clfs = [RandomForestClassifier(max_features=\"sqrt\",\n",
        "                             max_depth=None,\n",
        "                             min_samples_split=2\n",
        "                             ),\n",
        "        svm.SVC(kernel=\"rbf\"),\n",
        "        DecisionTreeClassifier(random_state=seed)\n",
        "        ]\n",
        "\n",
        "for clf in clfs:\n",
        "  print(type(clf))\n",
        "  clf.fit(X,y)\n",
        "  predictions_final = clf.predict(test_data)\n",
        "  estimate(predictions_fina l)\n",
        "  print(\"\\n\\n\")\n"
      ],
      "execution_count": 0,
      "outputs": []
    },
    {
      "cell_type": "markdown",
      "metadata": {
        "id": "1rK8PDQso284",
        "colab_type": "text"
      },
      "source": [
        "<br>"
      ]
    },
    {
      "cell_type": "code",
      "metadata": {
        "id": "gq89rTuU0ps8",
        "colab_type": "code",
        "cellView": "form",
        "colab": {}
      },
      "source": [
        "#@title IMBLEARN ASSORTED RESAMPLERS (OVERSAMPLING) -- SMOTE ETC.\n",
        "\n",
        "from imblearn.over_sampling import ADASYN\n",
        "from imblearn.over_sampling import SMOTE, BorderlineSMOTE, SVMSMOTE, SMOTENC\n",
        "#from imblearn.over_sampling import KMeansSMOTE\n",
        "from imblearn.over_sampling import RandomOverSampler\n",
        "\n",
        "# Reset if needed.\n",
        "train = pd.read_csv(\"/content/training.csv\")\n",
        "train_observed = train.iloc[:, -1]\n",
        "\n",
        "# vvvvvvv RUN AND SUBMIT THIS LAST ONE vvvvvvv\n",
        "ovrsmplr = RandomOverSampler(random_state=seed)\n",
        "\n",
        "X_res, _ = ovrsmplr.fit_resample(train, train_observed)\n",
        "print(\"{} rows added to training data with class0 scores.\\n\".format(len(X_res)-len(train)))\n",
        "train = pd.DataFrame(X_res)\n",
        "\n",
        "train_observed = train.iloc[:, -1]\n",
        "# .values()\n",
        "y = train_observed.to_numpy(copy=True) "
      ],
      "execution_count": 0,
      "outputs": []
    },
    {
      "cell_type": "code",
      "metadata": {
        "id": "rqqpf5EWY4Cq",
        "colab_type": "code",
        "cellView": "form",
        "colab": {}
      },
      "source": [
        "#@title SMOTETOMEK COMBINE RESAMPLER\n",
        "# from imblearn.combine import SMOTETomek\n",
        "\n",
        "# v_curr = len(train)\n",
        "\n",
        "# gg = train.iloc[:,1:-1]\n",
        "\n",
        "# smt = SMOTETomek(ratio='auto', random_state=seed)\n",
        "# X_smt, y_smt = smt.fit_resample(gg, train_observed)\n",
        "\n",
        "# df_X_smt = pd.DataFrame(X_smt)\n",
        "# df_y_smt = pd.DataFrame(y_smt)\n",
        "\n",
        "# df_total = pd.concat([df_X_smt,df_y_smt], axis=1)\n",
        "\n",
        "\n",
        "# train = df_total.reset_index()\n",
        "\n",
        "# v_curr = len(train) - v_curr\n",
        "# print(\"{} rows added to training data\".format(v_curr))\n",
        "\n",
        "# # Shuffle. \n",
        "# train = shuffle(train, random_state=seed)\n",
        "\n",
        "# # Update target array.\n",
        "# # Get all observed predictions 0 / 1.\n",
        "# train_observed = train.iloc[:, -1]\n",
        "# # .values()\n",
        "# y = train_observed.to_numpy(copy=True)"
      ],
      "execution_count": 0,
      "outputs": []
    },
    {
      "cell_type": "code",
      "metadata": {
        "id": "ekqmIZjUoTkr",
        "colab_type": "code",
        "cellView": "form",
        "colab": {}
      },
      "source": [
        "#@title SMOTEEEN COMBINE RESAMPLER\n",
        "# from imblearn.combine import SMOTEENN\n",
        "\n",
        "# v_curr = len(train)\n",
        "\n",
        "# gg = train.iloc[:,1:-1]\n",
        "\n",
        "# smt = SMOTEENN(ratio='auto', random_state=seed)\n",
        "# X_smt, y_smt = smt.fit_resample(gg, train_observed)\n",
        "\n",
        "# df_X_smt = pd.DataFrame(X_smt)\n",
        "# df_y_smt = pd.DataFrame(y_smt)\n",
        "\n",
        "# df_total = pd.concat([df_X_smt,df_y_smt], axis=1)\n",
        "\n",
        "\n",
        "# train = df_total.reset_index()\n",
        "\n",
        "# v_curr = len(train) - v_curr\n",
        "# print(\"{} rows added to training data\".format(v_curr))\n",
        "\n",
        "# # Shuffle. \n",
        "# train = shuffle(train, random_state=seed)\n",
        "\n",
        "# # Update target array.\n",
        "# # Get all observed predictions 0 / 1.\n",
        "# train_observed = train.iloc[:, -1]\n",
        "# # .values()\n",
        "# y = train_observed.to_numpy(copy=True)"
      ],
      "execution_count": 0,
      "outputs": []
    },
    {
      "cell_type": "code",
      "metadata": {
        "id": "Y_CftxCObI6G",
        "colab_type": "code",
        "cellView": "form",
        "colab": {}
      },
      "source": [
        "#@title TOMEKS LINKS UNDERSAMPLING METHODS.\n",
        "# Tomeks links --------------------\n",
        "\n",
        "# # RESAMPLING.\n",
        "# # ---------- Remove from majority class.\n",
        "\n",
        "# # Removing TomekLinks.\n",
        "# df_cnn = train.iloc[:, 1:-513]\n",
        "# df_gist = train.iloc[:, -513:-1]\n",
        "\n",
        "# # CNN features.\n",
        "# t1 = TomekLinks(return_indices=True, ratio=\"majority\")\n",
        "# X_t1, y_t1, id_t1 = t1.fit_resample(df_cnn, train_observed)\n",
        "\n",
        "# # GIST features.\n",
        "# t2 = TomekLinks(return_indices=True, ratio=\"majority\")\n",
        "# X_t2, y_t2, id_t2 = t2.fit_resample(df_gist, train_observed)\n",
        "\n",
        "# # List to hold Tomek's links indicies.\n",
        "# index_removal = list()\n",
        "# for index in np.arange(len(train)):\n",
        "#   if index in id_t1:\n",
        "#     pass\n",
        "#   else:\n",
        "#     index_removal.append(index)\n",
        "#   if index in id_t2:\n",
        "#     pass\n",
        "#   else:\n",
        "#     index_removal.append(index)\n",
        "\n",
        "\n",
        "# # Remove specified indicies from train.\n",
        "# train = train.drop(index_removal)\n",
        "\n",
        "# # Get all observed predictions 0 / 1.\n",
        "# train_observed = train.iloc[:, -1]\n",
        "# # .values()\n",
        "# y = train_observed.to_numpy(copy=True)\n",
        "\n",
        "\n",
        "# print(\"{} rows removed from train.target['class1'] majority class.\".format(len(index_removal)))"
      ],
      "execution_count": 0,
      "outputs": []
    },
    {
      "cell_type": "markdown",
      "metadata": {
        "id": "XKOJlzXMmnZZ",
        "colab_type": "text"
      },
      "source": [
        "<br>"
      ]
    },
    {
      "cell_type": "code",
      "metadata": {
        "id": "j-_jBqUt6ddT",
        "colab_type": "code",
        "cellView": "form",
        "colab": {}
      },
      "source": [
        "#@title GROUPED TWIN AXIS BAR PLOT\n",
        "\n",
        "\n",
        "# # Data representation:\n",
        "\n",
        "# # Training ---\n",
        "# trn_c0 = np.count_nonzero(y == 0)\n",
        "# trn_c1 = np.count_nonzero(y == 1)\n",
        "\n",
        "# plsdeleteAFTER = [trn_c0,trn_c1] #########\n",
        "# autolabel_vals = [trn_c0,trn_c1] # Hold vals for rect labels.\n",
        "\n",
        "# trn_c0 = round((trn_c0/len(y)*100),2)\n",
        "# trn_c1 = round((trn_c1/len(y)*100),2)\n",
        "# trn_bar = [trn_c0,trn_c1] # Hold vals for bar plot.\n",
        "\n",
        "\n",
        "# # Testing ---\n",
        "# tst_c0 = float(test_proportions.iloc[0,0][:6])\n",
        "\n",
        "# # Hold vals for rect labels.\n",
        "# autolabel_vals.append(tst_c0*len(test))\n",
        "# autolabel_vals.append((1-tst_c0)*len(test))\n",
        "# plsdeleteAFTER = [tst_c0*len(test),(1-tst_c0)*len(test)] #####\n",
        "\n",
        "# tst_c0 = round((tst_c0*100),2)\n",
        "# tst_c1 = 100 - tst_c0\n",
        "# tst_bar = [tst_c0,tst_c1] # Hold vals for bar plot.\n",
        "\n",
        "\n",
        "# print(\"Proportions\")\n",
        "# print(\"Training data:  Class0: {}%   Class1: {}%\".format(trn_c0,trn_c1) +\n",
        "#       \"   Proportion: {} : 1\".format(round((trn_c0/trn_c1),4)))\n",
        "# print(\"Testing data:   Class0: {}%   Class1: {}%\".format(tst_c0,tst_c1) + \n",
        "#       \"   Proportion: {} : 1\".format(round((tst_c0/tst_c1),4)))\n",
        "\n",
        "\n",
        "# # Bar Plot.\n",
        "# labels = [\"Class0 - Memorable\", \"Class1 - Non Memorable\"]\n",
        "# x = np.arange(len(labels))\n",
        "# width = 0.25\n",
        "\n",
        "# fig, ax = plt.subplots()\n",
        "# rects1 = ax.bar(x - width/2, trn_bar, width, label='Train')\n",
        "# rects2 = ax.bar(x + width/2, tst_bar, width, label='Test')\n",
        "\n",
        "# colour = \"tab:blue\"\n",
        "# ax.set_ylabel(\"TRAINING DATA\", color=colour)\n",
        "# ax.set_ylim([0,100])\n",
        "# ax.set_xticks(x)\n",
        "# ax.set_xticklabels(labels)\n",
        "# ax.legend()\n",
        "\n",
        "# ax2 = ax.twinx()\n",
        "# colour = \"tab:orange\"\n",
        "# ax2.set_ylabel(\"TESTING DATA\", color=colour)\n",
        "# ax2.tick_params(axis=\"y\", color=colour)\n",
        "\n",
        "# ############\n",
        "# # https://matplotlib.org/3.1.1/gallery/lines_bars_and_markers/barchart.html\n",
        "# def autolabel(rects):\n",
        "#   for i, rect in enumerate(rects):\n",
        "#     height = rect.get_height()\n",
        "#     ax.annotate('{}%'.format(height),\n",
        "#                 xy=(rect.get_x() + rect.get_width() / 2, height),\n",
        "#                 xytext=(0, 3),  # 3 points vertical offset\n",
        "#                 textcoords=\"offset points\",\n",
        "#                 ha='center', va='bottom')\n",
        "# ############\n",
        "\n",
        "\n",
        "# autolabel(rects1)\n",
        "# autolabel(rects2)\n",
        "\n",
        "# fig.tight_layout()\n",
        "\n",
        "# plt.show()"
      ],
      "execution_count": 0,
      "outputs": []
    },
    {
      "cell_type": "markdown",
      "metadata": {
        "id": "YLniXLiVmaUC",
        "colab_type": "text"
      },
      "source": [
        "<BR>"
      ]
    },
    {
      "cell_type": "code",
      "metadata": {
        "id": "_NcWSVZnyGru",
        "colab_type": "code",
        "cellView": "form",
        "colab": {}
      },
      "source": [
        "#@title PIPELINE SET UP & RUN\n",
        "\n",
        "# # PIPELINE\n",
        "# clf = make_pipeline(MLPClassifier(solver=\"lbfgs\",\n",
        "#                                                                             hidden_layer_sizes=hddn_lyrs,\n",
        "#                                                                             max_iter=mx_itr,\n",
        "#                                                                             alpha=1e-5,\n",
        "#                                                                             random_state=1,\n",
        "#                                                                             learning_rate=lr[\"c\"]))\n",
        "# clf.fit(X, y)\n",
        "\n",
        "# predictions_final = clf.predict(test_data)\n",
        "\n",
        "# estimate(predictions_final)\n",
        "\n",
        "# clf.steps"
      ],
      "execution_count": 0,
      "outputs": []
    },
    {
      "cell_type": "code",
      "metadata": {
        "id": "JQ_OSqp8nAwk",
        "colab_type": "code",
        "cellView": "form",
        "colab": {}
      },
      "source": [
        "#@title SKLEARN RANDOM FOREST CLF\n",
        "\n",
        "from sklearn.ensemble import RandomForestClassifier\n",
        "\n",
        "# RANDOMFOREST Classifier.\n",
        "clf = RandomForestClassifier(max_features=\"sqrt\",\n",
        "                             max_depth=None,\n",
        "                             min_samples_split=2\n",
        "                             )\n",
        "\n",
        "clf.fit(X,y)\n",
        "\n",
        "predictions_final = clf.predict(test_data)\n",
        "\n",
        "estimate(predictions_final)"
      ],
      "execution_count": 0,
      "outputs": []
    },
    {
      "cell_type": "code",
      "metadata": {
        "id": "nf1AYYRwKC5A",
        "colab_type": "code",
        "cellView": "form",
        "colab": {}
      },
      "source": [
        "#@title SKLEARN SVM CLF\n",
        "from sklearn import svm\n",
        "\n",
        "# SVM Classifier.\n",
        "\n",
        "clf = svm.SVC(kernel=\"sigmoid\")\n",
        "\n",
        "clf.fit(X,y)\n",
        "\n",
        "predictions_final = clf.predict(test_data)\n",
        "\n",
        "estimate(predictions_final)\n",
        "\n",
        "# https://scikit-learn.org/stable/modules/svm.html"
      ],
      "execution_count": 0,
      "outputs": []
    },
    {
      "cell_type": "code",
      "metadata": {
        "id": "ug7Yn8GKSpK1",
        "colab_type": "code",
        "cellView": "form",
        "colab": {}
      },
      "source": [
        "#@title SKLEARN DECISION TREE CLF\n",
        "\n",
        "from sklearn.tree import DecisionTreeClassifier\n",
        "\n",
        "clf = DecisionTreeClassifier(random_state=seed)\n",
        "\n",
        "clf.fit(X,y)\n",
        "\n",
        "# Predictions.\n",
        "predictions_final = clf.predict(test_data)\n",
        "\n",
        "estimate(predictions_final)"
      ],
      "execution_count": 0,
      "outputs": []
    },
    {
      "cell_type": "code",
      "metadata": {
        "id": "R1IybkQzlaPT",
        "colab_type": "code",
        "cellView": "form",
        "colab": {}
      },
      "source": [
        "#@title SKLEARN DECISION TREE CLF - GRAPHICAL TREE REP\n",
        "# from sklearn import tree\n",
        "\n",
        "# clf = tree.DecisionTreeClassifier(random_state=seed)\n",
        "\n",
        "# clf = clf.fit(X,y)\n",
        "\n",
        "# tree.plot_tree(clf.fit(X,y))"
      ],
      "execution_count": 0,
      "outputs": []
    }
  ]
}